{
  "cells": [
    {
      "cell_type": "markdown",
      "metadata": {
        "id": "view-in-github",
        "colab_type": "text"
      },
      "source": [
        "<a href=\"https://colab.research.google.com/github/FrancescoMonaco/LFN_Project/blob/main/LFN_Project.ipynb\" target=\"_parent\"><img src=\"https://colab.research.google.com/assets/colab-badge.svg\" alt=\"Open In Colab\"/></a>"
      ]
    },
    {
      "cell_type": "markdown",
      "metadata": {
        "id": "OYGZwaqH7ay5"
      },
      "source": [
        "# Installations, Imports, Data Retrieval\n",
        "gt : graph-tool\\\n",
        "nx : networkx\\\n",
        "go: plotly\n"
      ]
    },
    {
      "cell_type": "code",
      "execution_count": null,
      "metadata": {
        "id": "ghgod2aNo1Cs",
        "cellView": "form"
      },
      "outputs": [],
      "source": [
        "#@title Libraries install\n",
        "%%capture\n",
        "! python -m pip install snap-stanford\n",
        "!pip install nilearn\n",
        "!pip install plotly\n",
        "!pip install python-louvain"
      ]
    },
    {
      "cell_type": "code",
      "execution_count": null,
      "metadata": {
        "cellView": "form",
        "id": "Kpz08aP9ELsS"
      },
      "outputs": [],
      "source": [
        "#@title Imports\n",
        "import warnings\n",
        "warnings.simplefilter(action='ignore', category=FutureWarning)\n",
        "#*** Libraries to manipulate fMRI data\n",
        "from nilearn import datasets, plotting\n",
        "from nilearn.maskers import NiftiMapsMasker, NiftiSpheresMasker\n",
        "from nilearn.input_data import NiftiLabelsMasker\n",
        "#*** Libraries for graphs\n",
        "import networkx as nx\n",
        "#import snap\n",
        "#from graph_tool.all import *\n",
        "#*** Basic imports\n",
        "import numpy as np\n",
        "import matplotlib.pyplot as plt\n",
        "import seaborn as sns\n",
        "import plotly.graph_objects as go\n",
        "import pandas as pd\n",
        "import gc, os\n",
        "from tqdm import tqdm\n",
        "import scipy.stats as stats\n",
        "#*** Scaler for the data\n",
        "from sklearn.preprocessing import StandardScaler\n",
        "#*** Multiprocessing tools\n",
        "import multiprocessing\n",
        "from multiprocessing import Pool\n",
        "\n",
        "# Install the python-louvain package\n",
        "\n",
        "from community import community_louvain\n",
        "import networkx as nx\n",
        "import matplotlib.cm as cm\n"
      ]
    },
    {
      "cell_type": "code",
      "execution_count": null,
      "metadata": {
        "colab": {
          "base_uri": "https://localhost:8080/"
        },
        "id": "tqGAZcRfFCZ9",
        "outputId": "44b301d7-6077-469c-aaa5-6976d93bc6f6",
        "cellView": "form"
      },
      "outputs": [
        {
          "output_type": "stream",
          "name": "stdout",
          "text": [
            "URL transformed to HTTPS due to an HSTS policy\n",
            "--2023-11-28 13:23:22--  https://raw.githubusercontent.com/FrancescoMonaco/LFN_Project/main/graph_metrics.py\n",
            "Resolving raw.githubusercontent.com (raw.githubusercontent.com)... 185.199.108.133, 185.199.109.133, 185.199.110.133, ...\n",
            "Connecting to raw.githubusercontent.com (raw.githubusercontent.com)|185.199.108.133|:443... connected.\n",
            "HTTP request sent, awaiting response... 200 OK\n",
            "Length: 4849 (4.7K) [text/plain]\n",
            "Saving to: ‘graph_metrics.py.2’\n",
            "\n",
            "graph_metrics.py.2  100%[===================>]   4.74K  --.-KB/s    in 0s      \n",
            "\n",
            "2023-11-28 13:23:23 (67.6 MB/s) - ‘graph_metrics.py.2’ saved [4849/4849]\n",
            "\n",
            "URL transformed to HTTPS due to an HSTS policy\n",
            "--2023-11-28 13:23:23--  https://raw.githubusercontent.com/FrancescoMonaco/LFN_Project/main/findpartitionofbrain.py\n",
            "Resolving raw.githubusercontent.com (raw.githubusercontent.com)... 185.199.108.133, 185.199.109.133, 185.199.110.133, ...\n",
            "Connecting to raw.githubusercontent.com (raw.githubusercontent.com)|185.199.108.133|:443... connected.\n",
            "HTTP request sent, awaiting response... 200 OK\n",
            "Length: 3342 (3.3K) [text/plain]\n",
            "Saving to: ‘findpartitionofbrain.py.2’\n",
            "\n",
            "findpartitionofbrai 100%[===================>]   3.26K  --.-KB/s    in 0s      \n",
            "\n",
            "2023-11-28 13:23:23 (55.6 MB/s) - ‘findpartitionofbrain.py.2’ saved [3342/3342]\n",
            "\n",
            "URL transformed to HTTPS due to an HSTS policy\n",
            "--2023-11-28 13:23:23--  https://raw.githubusercontent.com/FrancescoMonaco/LFN_Project/main/mri_to_graph.py\n",
            "Resolving raw.githubusercontent.com (raw.githubusercontent.com)... 185.199.110.133, 185.199.108.133, 185.199.109.133, ...\n",
            "Connecting to raw.githubusercontent.com (raw.githubusercontent.com)|185.199.110.133|:443... connected.\n",
            "HTTP request sent, awaiting response... 200 OK\n",
            "Length: 3267 (3.2K) [text/plain]\n",
            "Saving to: ‘mri_to_graph.py.2’\n",
            "\n",
            "mri_to_graph.py.2   100%[===================>]   3.19K  --.-KB/s    in 0s      \n",
            "\n",
            "2023-11-28 13:23:23 (38.7 MB/s) - ‘mri_to_graph.py.2’ saved [3267/3267]\n",
            "\n"
          ]
        }
      ],
      "source": [
        "#@title Imports from external py files\n",
        "import requests\n",
        "base_url = \"raw.githubusercontent.com/FrancescoMonaco/LFN_Project/main\"\n",
        "files_to_download = [\"graph_metrics.py\", \"findpartitionofbrain.py\", \"mri_to_graph.py\"]\n",
        "for file_name in files_to_download:\n",
        "      file_url = f\"{base_url}/{file_name}\"\n",
        "      !wget {file_url}\n",
        "from graph_metrics import *\n",
        "from mri_to_graph import *\n",
        "from findpartitionofbrain import *"
      ]
    },
    {
      "cell_type": "code",
      "execution_count": 10,
      "metadata": {
        "id": "G78iEb6snQcX"
      },
      "outputs": [],
      "source": [
        "#@title Use precomputed graphs (IF YES SKIP TO TEST AREA DIRECTLY)\n",
        "%%capture\n",
        "prec = True # @param {type:\"boolean\"}\n",
        "if prec:\n",
        "  import requests\n",
        "  import pickle\n",
        "  base_url = \"raw.githubusercontent.com/FrancescoMonaco/LFN_Project/main\"\n",
        "  files_to_download = [\"Dataframes/adhd_data.pkl\", \"Dataframes/control_data.pkl\", \"Dataframes/bp_data.pkl\", \"Dataframes/schz_data.pkl\"]\n",
        "\n",
        "# Download each file\n",
        "  for file_name in files_to_download:\n",
        "      file_url = f\"{base_url}/{file_name}\"\n",
        "      !wget {file_url}\n",
        "  # Load dataframes with graphs using Pickle\n",
        "  with open('/content/control_data.pkl', 'rb') as file:\n",
        "      control_data = pickle.load(file)\n",
        "\n",
        "  with open('/content/schz_data.pkl', 'rb') as file:\n",
        "      schz_data = pickle.load(file)\n",
        "\n",
        "  with open('/content/bp_data.pkl', 'rb') as file:\n",
        "      bp_data = pickle.load(file)\n",
        "\n",
        "  with open('/content/adhd_data.pkl', 'rb') as file:\n",
        "      adhd_data = pickle.load(file)\n"
      ]
    },
    {
      "cell_type": "code",
      "execution_count": null,
      "metadata": {
        "cellView": "form",
        "id": "D4mMxNSHo3GO"
      },
      "outputs": [],
      "source": [
        "#@title Data download\n",
        "%%capture\n",
        "# Load the brain atlas\n",
        "atlas = datasets.fetch_atlas_msdl()\n",
        "# Load the atlas image stored in 'maps'\n",
        "atlas_filename = atlas[\"maps\"]\n",
        "# Load atlas data stored in 'labels'\n",
        "labels = atlas[\"labels\"]\n",
        "\n",
        "# Load the dataset\n",
        "_, urls = datasets.fetch_ds000030_urls()\n",
        "\n",
        "selected_subjects = [\n",
        "    'sub-10159', 'sub-10171', 'sub-10189', 'sub-10206', 'sub-10217',\n",
        "    'sub-10292', 'sub-10524', 'sub-10316', 'sub-10940', 'sub-11156',\n",
        "    'sub-50004', 'sub-50005', 'sub-50006', 'sub-50007', 'sub-50008',\n",
        "    'sub-50010', 'sub-50013', 'sub-50014', 'sub-50015', 'sub-50016',\n",
        "    'sub-60001', 'sub-60005', 'sub-60006', 'sub-60008', 'sub-60010',\n",
        "    'sub-60011', 'sub-60012', 'sub-60014', 'sub-60015', 'sub-60016',\n",
        "    'sub-70017', 'sub-70020', 'sub-70021', 'sub-70022', 'sub-70026',\n",
        "    'sub-70029', 'sub-70033', 'sub-70034', 'sub-70083', 'sub-70086'\n",
        "]\n",
        "\n",
        "filtered_urls = [url for url in urls if any(subject in url for subject in selected_subjects)]\n",
        "\n",
        "# Define exclusion patterns to exclude unwanted data\n",
        "exclusion_patterns = [\n",
        "    \"*/freesurfer/*\"\n",
        "    \"*derivatives/task*\",\n",
        "    \"*task_group*\",\n",
        "    \"*/anat/*\",\n",
        "    \"*group*\",\n",
        "    \"*phenotype*\",\n",
        "    \"*mriqc*\",\n",
        "    \"*parameter_plots*\",\n",
        "    \"*physio_plots*\",\n",
        "    \"*space-fsaverage*\",\n",
        "    \"*space-T1w*\",\n",
        "    \"*dwi*\",\n",
        "    \"*beh*\",\n",
        "    \"*task-bart*\",\n",
        "    \"*task-pamenc*\",\n",
        "    \"*task-pamret*\",\n",
        "    \"*task-scap*\",\n",
        "    \"*task-task*\",\n",
        "    \"*task-stopsignal*\",\n",
        "    \"*task-bht*\"\n",
        "]\n",
        "\n",
        "# Apply the filters to select subjects and exclude unwanted data\n",
        "urls = datasets.select_from_index(\n",
        "    filtered_urls, exclusion_filters=exclusion_patterns\n",
        ")\n",
        "\n",
        "try:\n",
        "    # Fetch the selected subjects' data\n",
        "    data_dir, _ = datasets.fetch_openneuro_dataset(urls=urls)\n",
        "except Exception as e:\n",
        "    print(f\"Finished, except: {e}\")\n"
      ]
    },
    {
      "cell_type": "code",
      "execution_count": null,
      "metadata": {
        "id": "SV8_RWMwk7ed"
      },
      "outputs": [],
      "source": [
        "#@title Variables for data retrieval and manipulation\n",
        "base_path = \"/root/nilearn_data/ds000030/ds000030_R1.0.4/uncompressed/derivatives/fmriprep/\"\n",
        "\n",
        "# Dataframes\n",
        "cols = ['data', 'confounds', 'graph', 'nodes', 'edges']\n",
        "control_data = pd.DataFrame(columns=cols)\n",
        "schz_data = pd.DataFrame(columns=cols)\n",
        "bp_data = pd.DataFrame(columns=cols)\n",
        "adhd_data = pd.DataFrame(columns=cols)\n",
        "\n",
        "# Visit each subject's folder\n",
        "for subject_folder in os.scandir(base_path):\n",
        "    if subject_folder.is_dir():\n",
        "        condition = subject_folder.name[4]  # Extract the condition from the subject id\n",
        "\n",
        "        # Variables\n",
        "        data_path = None\n",
        "        confounds_data = None\n",
        "\n",
        "        # Retrieve the data\n",
        "\n",
        "        func_path = os.path.join(subject_folder.path, \"func\")\n",
        "        for func_file in os.scandir(func_path):\n",
        "          # Find the confounds variables file\n",
        "              if func_file.name.endswith(\".tsv\"):\n",
        "                    confounds_data = pd.read_csv(func_file.path, sep='\\t')\n",
        "          # Find the resting state fmri\n",
        "              if func_file.name.endswith(\"preproc.nii.gz\"):\n",
        "                    data_path = func_file.path\n",
        "\n",
        "        # Add data to the respective dataframe\n",
        "        if condition == \"1\":\n",
        "            control_data.loc[len(control_data)] = [data_path, confounds_data, None, None, None]\n",
        "        elif condition == \"5\":\n",
        "            schz_data.loc[len(schz_data)] = [data_path, confounds_data, None, None, None]\n",
        "        elif condition == \"6\":\n",
        "            bp_data.loc[len(bp_data)] = [data_path, confounds_data, None, None, None]\n",
        "        elif condition == \"7\":\n",
        "            adhd_data.loc[len(adhd_data)] = [data_path, confounds_data, None, None, None]\n",
        "\n"
      ]
    },
    {
      "cell_type": "markdown",
      "metadata": {
        "id": "idUdlfP47lhK"
      },
      "source": [
        "# MRI to Graph"
      ]
    },
    {
      "cell_type": "code",
      "execution_count": null,
      "metadata": {
        "colab": {
          "base_uri": "https://localhost:8080/"
        },
        "id": "Gv8Pe7sU1qW4",
        "outputId": "2278ae34-8c7a-4ca7-a7b5-c0193528ef45",
        "cellView": "form"
      },
      "outputs": [
        {
          "output_type": "stream",
          "name": "stdout",
          "text": [
            "\n",
            "Dataset created in /root/nilearn_data/schaefer_2018\n",
            "\n",
            "Downloading data from https://raw.githubusercontent.com/ThomasYeoLab/CBIG/v0.14.3-Update_Yeo2011_Schaefer2018_labelname/stable_projects/brain_parcellation/Schaefer2018_LocalGlobal/Parcellations/MNI/Schaefer2018_1000Parcels_7Networks_order.txt ...\n",
            "Downloading data from https://raw.githubusercontent.com/ThomasYeoLab/CBIG/v0.14.3-Update_Yeo2011_Schaefer2018_labelname/stable_projects/brain_parcellation/Schaefer2018_LocalGlobal/Parcellations/MNI/Schaefer2018_1000Parcels_7Networks_order_FSLMNI152_1mm.nii.gz ...\n"
          ]
        },
        {
          "output_type": "stream",
          "name": "stderr",
          "text": [
            " ...done. (0 seconds, 0 min)\n",
            " ...done. (0 seconds, 0 min)\n"
          ]
        }
      ],
      "source": [
        "#@title Load brain atlas\n",
        "import nibabel as nib\n",
        "schaefer_1000 = datasets.fetch_atlas_schaefer_2018(n_rois=1000, yeo_networks=7, resolution_mm=1, verbose=1)\n",
        "\n",
        "# Load the atlas data\n",
        "atlas_img = nib.load(schaefer_1000.maps)\n",
        "\n",
        "# ROIs coordinates\n",
        "coords = np.vstack(np.where(atlas_img.get_fdata() > 0)).T"
      ]
    },
    {
      "cell_type": "code",
      "execution_count": null,
      "metadata": {
        "colab": {
          "base_uri": "https://localhost:8080/"
        },
        "id": "eYS8Klez4v2i",
        "outputId": "36ab85a3-92dd-44c0-af1d-1224a9740690",
        "cellView": "form"
      },
      "outputs": [
        {
          "output_type": "stream",
          "name": "stderr",
          "text": [
            "100%|██████████| 10/10 [02:31<00:00, 15.20s/it]\n",
            "100%|██████████| 10/10 [02:35<00:00, 15.53s/it]\n",
            "100%|██████████| 10/10 [02:23<00:00, 14.34s/it]\n",
            "100%|██████████| 10/10 [02:21<00:00, 14.16s/it]\n"
          ]
        }
      ],
      "source": [
        "#@title Transform loop\n",
        "dataframes = [control_data, schz_data, bp_data, adhd_data]\n",
        "\n",
        "# Create processors for the data\n",
        "\n",
        "  # Timeseries extractor\n",
        "spheres_masker = NiftiLabelsMasker(\n",
        "    labels_img=schaefer_1000.maps,\n",
        "    smoothing_fwhm=1,\n",
        "    detrend=True,\n",
        "    standardize=\"zscore_sample\",\n",
        "    t_r=None\n",
        ")\n",
        "\n",
        "threshold = 0.85 # @param {type:\"slider\", min:0, max:1, step:0.01}\n",
        "\n",
        "# Wrapper for the dataframes\n",
        "dataframes = [control_data, schz_data, bp_data, adhd_data]\n",
        "conditions = [\"Control\", \"Schizophrenia\", \"Bipolar\", \"ADHD\"]\n",
        "num_processes = multiprocessing.cpu_count()  # Number of available CPU cores\n",
        "\n",
        "# Execution\n",
        "with Pool(processes=num_processes) as pool:\n",
        "    processed_data = pool.starmap(\n",
        "        process_dataframe,\n",
        "        [(dataframe, condition, spheres_masker, threshold) for dataframe, condition in zip(dataframes, conditions)]\n",
        "    )\n",
        "\n",
        "for df, results in zip(dataframes, processed_data):\n",
        "    for result in results:\n",
        "        row_name, G, num_nodes, num_edges = result\n",
        "        df.at[row_name, 'graph'] = G\n",
        "        df.at[row_name, 'nodes'] = num_nodes\n",
        "        df.at[row_name, 'edges'] = num_edges\n",
        "\n",
        "\n"
      ]
    },
    {
      "cell_type": "code",
      "execution_count": null,
      "metadata": {
        "cellView": "form",
        "colab": {
          "base_uri": "https://localhost:8080/"
        },
        "id": "rvQIQz9f-7pC",
        "outputId": "aa1cc9e7-5807-4f3e-8397-68e1d7fd1530"
      },
      "outputs": [
        {
          "name": "stdout",
          "output_type": "stream",
          "text": [
            "Mean Nodes: 456.325\n",
            "Mean Edges: 1249.0\n"
          ]
        },
        {
          "data": {
            "text/plain": [
              "0"
            ]
          },
          "execution_count": 8,
          "metadata": {},
          "output_type": "execute_result"
        }
      ],
      "source": [
        "#@title Compute mean number of nodes and edges\n",
        "# Concatenate all dataframes into one\n",
        "combined_data = pd.concat(dataframes)\n",
        "\n",
        "# Calculate the mean number of nodes and edges\n",
        "mean_nodes = combined_data['nodes'].mean()\n",
        "mean_edges = combined_data['edges'].mean()\n",
        "\n",
        "print(f\"Mean Nodes: {mean_nodes}\")\n",
        "print(f\"Mean Edges: {mean_edges}\")\n",
        "\n",
        "# Run garbage collection\n",
        "del mean_nodes, mean_edges, spheres_masker, combined_data\n",
        "gc.collect()"
      ]
    },
    {
      "cell_type": "markdown",
      "metadata": {
        "id": "Mbws5Cnz-1JQ"
      },
      "source": [
        "# Test Area"
      ]
    },
    {
      "cell_type": "markdown",
      "metadata": {
        "id": "pAF3VRXlA7hr"
      },
      "source": [
        "##Plot test"
      ]
    },
    {
      "cell_type": "code",
      "execution_count": null,
      "metadata": {
        "colab": {
          "base_uri": "https://localhost:8080/",
          "height": 566
        },
        "id": "Pyu5T2Zy4j3T",
        "outputId": "1b4e779c-15d6-460f-d947-dace1b36e9a3"
      },
      "outputs": [
        {
          "output_type": "stream",
          "name": "stdout",
          "text": [
            "\n",
            "Dataset created in /root/nilearn_data/schaefer_2018\n",
            "\n",
            "Downloading data from https://raw.githubusercontent.com/ThomasYeoLab/CBIG/v0.14.3-Update_Yeo2011_Schaefer2018_labelname/stable_projects/brain_parcellation/Schaefer2018_LocalGlobal/Parcellations/MNI/Schaefer2018_1000Parcels_7Networks_order.txt ...\n"
          ]
        },
        {
          "output_type": "stream",
          "name": "stderr",
          "text": [
            " ...done. (0 seconds, 0 min)\n"
          ]
        },
        {
          "output_type": "stream",
          "name": "stdout",
          "text": [
            "Downloading data from https://raw.githubusercontent.com/ThomasYeoLab/CBIG/v0.14.3-Update_Yeo2011_Schaefer2018_labelname/stable_projects/brain_parcellation/Schaefer2018_LocalGlobal/Parcellations/MNI/Schaefer2018_1000Parcels_7Networks_order_FSLMNI152_1mm.nii.gz ...\n"
          ]
        },
        {
          "output_type": "stream",
          "name": "stderr",
          "text": [
            " ...done. (0 seconds, 0 min)\n"
          ]
        },
        {
          "output_type": "error",
          "ename": "ValueError",
          "evalue": "ignored",
          "traceback": [
            "\u001b[0;31m---------------------------------------------------------------------------\u001b[0m",
            "\u001b[0;31mValueError\u001b[0m                                Traceback (most recent call last)",
            "\u001b[0;32m<ipython-input-5-d56e76e62613>\u001b[0m in \u001b[0;36m<cell line: 29>\u001b[0;34m()\u001b[0m\n\u001b[1;32m     27\u001b[0m \u001b[0;31m# Perform preprocessing on confounds_data if needed\u001b[0m\u001b[0;34m\u001b[0m\u001b[0;34m\u001b[0m\u001b[0m\n\u001b[1;32m     28\u001b[0m \u001b[0mconfounds_data\u001b[0m \u001b[0;34m=\u001b[0m \u001b[0mconfounds_data\u001b[0m\u001b[0;34m.\u001b[0m\u001b[0mreplace\u001b[0m\u001b[0;34m(\u001b[0m\u001b[0;34m[\u001b[0m\u001b[0mnp\u001b[0m\u001b[0;34m.\u001b[0m\u001b[0mnan\u001b[0m\u001b[0;34m,\u001b[0m \u001b[0mnp\u001b[0m\u001b[0;34m.\u001b[0m\u001b[0minf\u001b[0m\u001b[0;34m,\u001b[0m \u001b[0;34m-\u001b[0m\u001b[0mnp\u001b[0m\u001b[0;34m.\u001b[0m\u001b[0minf\u001b[0m\u001b[0;34m]\u001b[0m\u001b[0;34m,\u001b[0m \u001b[0;36m0\u001b[0m\u001b[0;34m)\u001b[0m\u001b[0;34m\u001b[0m\u001b[0;34m\u001b[0m\u001b[0m\n\u001b[0;32m---> 29\u001b[0;31m \u001b[0mtimeseries\u001b[0m \u001b[0;34m=\u001b[0m \u001b[0mspheres_masker\u001b[0m\u001b[0;34m.\u001b[0m\u001b[0mfit_transform\u001b[0m\u001b[0;34m(\u001b[0m\u001b[0mdata_path\u001b[0m\u001b[0;34m,\u001b[0m \u001b[0mconfounds\u001b[0m\u001b[0;34m=\u001b[0m\u001b[0mconfounds_data\u001b[0m\u001b[0;34m)\u001b[0m\u001b[0;34m\u001b[0m\u001b[0;34m\u001b[0m\u001b[0m\n\u001b[0m\u001b[1;32m     30\u001b[0m \u001b[0;34m\u001b[0m\u001b[0m\n\u001b[1;32m     31\u001b[0m \u001b[0mscaler\u001b[0m \u001b[0;34m=\u001b[0m \u001b[0mStandardScaler\u001b[0m\u001b[0;34m(\u001b[0m\u001b[0;34m)\u001b[0m\u001b[0;34m\u001b[0m\u001b[0;34m\u001b[0m\u001b[0m\n",
            "\u001b[0;32m/usr/local/lib/python3.10/dist-packages/sklearn/utils/_set_output.py\u001b[0m in \u001b[0;36mwrapped\u001b[0;34m(self, X, *args, **kwargs)\u001b[0m\n\u001b[1;32m    138\u001b[0m     \u001b[0;34m@\u001b[0m\u001b[0mwraps\u001b[0m\u001b[0;34m(\u001b[0m\u001b[0mf\u001b[0m\u001b[0;34m)\u001b[0m\u001b[0;34m\u001b[0m\u001b[0;34m\u001b[0m\u001b[0m\n\u001b[1;32m    139\u001b[0m     \u001b[0;32mdef\u001b[0m \u001b[0mwrapped\u001b[0m\u001b[0;34m(\u001b[0m\u001b[0mself\u001b[0m\u001b[0;34m,\u001b[0m \u001b[0mX\u001b[0m\u001b[0;34m,\u001b[0m \u001b[0;34m*\u001b[0m\u001b[0margs\u001b[0m\u001b[0;34m,\u001b[0m \u001b[0;34m**\u001b[0m\u001b[0mkwargs\u001b[0m\u001b[0;34m)\u001b[0m\u001b[0;34m:\u001b[0m\u001b[0;34m\u001b[0m\u001b[0;34m\u001b[0m\u001b[0m\n\u001b[0;32m--> 140\u001b[0;31m         \u001b[0mdata_to_wrap\u001b[0m \u001b[0;34m=\u001b[0m \u001b[0mf\u001b[0m\u001b[0;34m(\u001b[0m\u001b[0mself\u001b[0m\u001b[0;34m,\u001b[0m \u001b[0mX\u001b[0m\u001b[0;34m,\u001b[0m \u001b[0;34m*\u001b[0m\u001b[0margs\u001b[0m\u001b[0;34m,\u001b[0m \u001b[0;34m**\u001b[0m\u001b[0mkwargs\u001b[0m\u001b[0;34m)\u001b[0m\u001b[0;34m\u001b[0m\u001b[0;34m\u001b[0m\u001b[0m\n\u001b[0m\u001b[1;32m    141\u001b[0m         \u001b[0;32mif\u001b[0m \u001b[0misinstance\u001b[0m\u001b[0;34m(\u001b[0m\u001b[0mdata_to_wrap\u001b[0m\u001b[0;34m,\u001b[0m \u001b[0mtuple\u001b[0m\u001b[0;34m)\u001b[0m\u001b[0;34m:\u001b[0m\u001b[0;34m\u001b[0m\u001b[0;34m\u001b[0m\u001b[0m\n\u001b[1;32m    142\u001b[0m             \u001b[0;31m# only wrap the first output for cross decomposition\u001b[0m\u001b[0;34m\u001b[0m\u001b[0;34m\u001b[0m\u001b[0m\n",
            "\u001b[0;32m/usr/local/lib/python3.10/dist-packages/nilearn/maskers/nifti_labels_masker.py\u001b[0m in \u001b[0;36mfit_transform\u001b[0;34m(self, imgs, confounds, sample_mask)\u001b[0m\n\u001b[1;32m    461\u001b[0m \u001b[0;34m\u001b[0m\u001b[0m\n\u001b[1;32m    462\u001b[0m         \"\"\"\n\u001b[0;32m--> 463\u001b[0;31m         return self.fit(imgs).transform(\n\u001b[0m\u001b[1;32m    464\u001b[0m             \u001b[0mimgs\u001b[0m\u001b[0;34m,\u001b[0m \u001b[0mconfounds\u001b[0m\u001b[0;34m=\u001b[0m\u001b[0mconfounds\u001b[0m\u001b[0;34m,\u001b[0m \u001b[0msample_mask\u001b[0m\u001b[0;34m=\u001b[0m\u001b[0msample_mask\u001b[0m\u001b[0;34m\u001b[0m\u001b[0;34m\u001b[0m\u001b[0m\n\u001b[1;32m    465\u001b[0m         )\n",
            "\u001b[0;32m/usr/local/lib/python3.10/dist-packages/sklearn/utils/_set_output.py\u001b[0m in \u001b[0;36mwrapped\u001b[0;34m(self, X, *args, **kwargs)\u001b[0m\n\u001b[1;32m    138\u001b[0m     \u001b[0;34m@\u001b[0m\u001b[0mwraps\u001b[0m\u001b[0;34m(\u001b[0m\u001b[0mf\u001b[0m\u001b[0;34m)\u001b[0m\u001b[0;34m\u001b[0m\u001b[0;34m\u001b[0m\u001b[0m\n\u001b[1;32m    139\u001b[0m     \u001b[0;32mdef\u001b[0m \u001b[0mwrapped\u001b[0m\u001b[0;34m(\u001b[0m\u001b[0mself\u001b[0m\u001b[0;34m,\u001b[0m \u001b[0mX\u001b[0m\u001b[0;34m,\u001b[0m \u001b[0;34m*\u001b[0m\u001b[0margs\u001b[0m\u001b[0;34m,\u001b[0m \u001b[0;34m**\u001b[0m\u001b[0mkwargs\u001b[0m\u001b[0;34m)\u001b[0m\u001b[0;34m:\u001b[0m\u001b[0;34m\u001b[0m\u001b[0;34m\u001b[0m\u001b[0m\n\u001b[0;32m--> 140\u001b[0;31m         \u001b[0mdata_to_wrap\u001b[0m \u001b[0;34m=\u001b[0m \u001b[0mf\u001b[0m\u001b[0;34m(\u001b[0m\u001b[0mself\u001b[0m\u001b[0;34m,\u001b[0m \u001b[0mX\u001b[0m\u001b[0;34m,\u001b[0m \u001b[0;34m*\u001b[0m\u001b[0margs\u001b[0m\u001b[0;34m,\u001b[0m \u001b[0;34m**\u001b[0m\u001b[0mkwargs\u001b[0m\u001b[0;34m)\u001b[0m\u001b[0;34m\u001b[0m\u001b[0;34m\u001b[0m\u001b[0m\n\u001b[0m\u001b[1;32m    141\u001b[0m         \u001b[0;32mif\u001b[0m \u001b[0misinstance\u001b[0m\u001b[0;34m(\u001b[0m\u001b[0mdata_to_wrap\u001b[0m\u001b[0;34m,\u001b[0m \u001b[0mtuple\u001b[0m\u001b[0;34m)\u001b[0m\u001b[0;34m:\u001b[0m\u001b[0;34m\u001b[0m\u001b[0;34m\u001b[0m\u001b[0m\n\u001b[1;32m    142\u001b[0m             \u001b[0;31m# only wrap the first output for cross decomposition\u001b[0m\u001b[0;34m\u001b[0m\u001b[0;34m\u001b[0m\u001b[0m\n",
            "\u001b[0;32m/usr/local/lib/python3.10/dist-packages/nilearn/maskers/base_masker.py\u001b[0m in \u001b[0;36mtransform\u001b[0;34m(self, imgs, confounds, sample_mask)\u001b[0m\n\u001b[1;32m    265\u001b[0m                 \u001b[0mall_confounds\u001b[0m\u001b[0;34m.\u001b[0m\u001b[0mappend\u001b[0m\u001b[0;34m(\u001b[0m\u001b[0mconfounds\u001b[0m\u001b[0;34m)\u001b[0m\u001b[0;34m\u001b[0m\u001b[0;34m\u001b[0m\u001b[0m\n\u001b[1;32m    266\u001b[0m \u001b[0;34m\u001b[0m\u001b[0m\n\u001b[0;32m--> 267\u001b[0;31m         return self.transform_single_imgs(\n\u001b[0m\u001b[1;32m    268\u001b[0m             \u001b[0mimgs\u001b[0m\u001b[0;34m,\u001b[0m \u001b[0mconfounds\u001b[0m\u001b[0;34m=\u001b[0m\u001b[0mall_confounds\u001b[0m\u001b[0;34m,\u001b[0m \u001b[0msample_mask\u001b[0m\u001b[0;34m=\u001b[0m\u001b[0msample_mask\u001b[0m\u001b[0;34m\u001b[0m\u001b[0;34m\u001b[0m\u001b[0m\n\u001b[1;32m    269\u001b[0m         )\n",
            "\u001b[0;32m/usr/local/lib/python3.10/dist-packages/nilearn/maskers/nifti_labels_masker.py\u001b[0m in \u001b[0;36mtransform_single_imgs\u001b[0;34m(self, imgs, confounds, sample_mask)\u001b[0m\n\u001b[1;32m    522\u001b[0m \u001b[0;34m\u001b[0m\u001b[0m\n\u001b[1;32m    523\u001b[0m         \u001b[0;32mif\u001b[0m \u001b[0mself\u001b[0m\u001b[0;34m.\u001b[0m\u001b[0mresampling_target\u001b[0m \u001b[0;34m==\u001b[0m \u001b[0;34m\"data\"\u001b[0m\u001b[0;34m:\u001b[0m\u001b[0;34m\u001b[0m\u001b[0;34m\u001b[0m\u001b[0m\n\u001b[0;32m--> 524\u001b[0;31m             \u001b[0mimgs_\u001b[0m \u001b[0;34m=\u001b[0m \u001b[0m_utils\u001b[0m\u001b[0;34m.\u001b[0m\u001b[0mcheck_niimg\u001b[0m\u001b[0;34m(\u001b[0m\u001b[0mimgs\u001b[0m\u001b[0;34m,\u001b[0m \u001b[0matleast_4d\u001b[0m\u001b[0;34m=\u001b[0m\u001b[0;32mTrue\u001b[0m\u001b[0;34m)\u001b[0m\u001b[0;34m\u001b[0m\u001b[0;34m\u001b[0m\u001b[0m\n\u001b[0m\u001b[1;32m    525\u001b[0m             if not _utils.niimg_conversions._check_same_fov(\n\u001b[1;32m    526\u001b[0m                 \u001b[0mimgs_\u001b[0m\u001b[0;34m,\u001b[0m\u001b[0;34m\u001b[0m\u001b[0;34m\u001b[0m\u001b[0m\n",
            "\u001b[0;32m/usr/local/lib/python3.10/dist-packages/nilearn/_utils/niimg_conversions.py\u001b[0m in \u001b[0;36mcheck_niimg\u001b[0;34m(niimg, ensure_ndim, atleast_4d, dtype, return_iterator, wildcards)\u001b[0m\n\u001b[1;32m    304\u001b[0m                 \u001b[0;32mraise\u001b[0m \u001b[0mValueError\u001b[0m\u001b[0;34m(\u001b[0m\u001b[0mmessage\u001b[0m\u001b[0;34m)\u001b[0m\u001b[0;34m\u001b[0m\u001b[0;34m\u001b[0m\u001b[0m\n\u001b[1;32m    305\u001b[0m             \u001b[0;32melse\u001b[0m\u001b[0;34m:\u001b[0m\u001b[0;34m\u001b[0m\u001b[0;34m\u001b[0m\u001b[0m\n\u001b[0;32m--> 306\u001b[0;31m                 \u001b[0;32mraise\u001b[0m \u001b[0mValueError\u001b[0m\u001b[0;34m(\u001b[0m\u001b[0;34mf\"File not found: '{niimg}'\"\u001b[0m\u001b[0;34m)\u001b[0m\u001b[0;34m\u001b[0m\u001b[0;34m\u001b[0m\u001b[0m\n\u001b[0m\u001b[1;32m    307\u001b[0m         \u001b[0;32melif\u001b[0m \u001b[0;32mnot\u001b[0m \u001b[0mos\u001b[0m\u001b[0;34m.\u001b[0m\u001b[0mpath\u001b[0m\u001b[0;34m.\u001b[0m\u001b[0mexists\u001b[0m\u001b[0;34m(\u001b[0m\u001b[0mniimg\u001b[0m\u001b[0;34m)\u001b[0m\u001b[0;34m:\u001b[0m\u001b[0;34m\u001b[0m\u001b[0;34m\u001b[0m\u001b[0m\n\u001b[1;32m    308\u001b[0m             \u001b[0;32mraise\u001b[0m \u001b[0mValueError\u001b[0m\u001b[0;34m(\u001b[0m\u001b[0;34mf\"File not found: '{niimg}'\"\u001b[0m\u001b[0;34m)\u001b[0m\u001b[0;34m\u001b[0m\u001b[0;34m\u001b[0m\u001b[0m\n",
            "\u001b[0;31mValueError\u001b[0m: File not found: '/root/nilearn_data/ds000030/ds000030_R1.0.4/uncompressed/derivatives/fmriprep/sub-10171/func/sub-10171_task-rest_bold_space-MNI152NLin2009cAsym_preproc.nii.gz'"
          ]
        }
      ],
      "source": [
        "#@title Example to extract a correlation matrix from an fMRI\n",
        "import nibabel as nib\n",
        "schaefer_1000 = datasets.fetch_atlas_schaefer_2018(n_rois=1000, yeo_networks=7, resolution_mm=1, verbose=1)\n",
        "\n",
        "# Load the atlas data\n",
        "atlas_img = nib.load(schaefer_1000.maps)\n",
        "\n",
        "# ROIs coordinates\n",
        "coords = plotting.find_parcellation_cut_coords(atlas_img)\n",
        "#coords = np.vstack(np.where(atlas_img.get_fdata() > 0)).T\n",
        "\n",
        "# Timeseries extractor\n",
        "spheres_masker = NiftiLabelsMasker(\n",
        "    labels_img=schaefer_1000.maps,\n",
        "    smoothing_fwhm=1,\n",
        "    detrend=True,\n",
        "    standardize=\"zscore_sample\",\n",
        "    t_r=None\n",
        ")\n",
        "\n",
        "\n",
        "sample_row = control_data.iloc[0]  # Change the index (0) to the desired sample\n",
        "\n",
        "data_path = sample_row['data']\n",
        "confounds_data = sample_row['confounds']\n",
        "\n",
        "# Perform preprocessing on confounds_data if needed\n",
        "confounds_data = confounds_data.replace([np.nan, np.inf, -np.inf], 0)\n",
        "timeseries = spheres_masker.fit_transform(data_path, confounds=confounds_data)\n",
        "\n",
        "scaler = StandardScaler()\n",
        "\n",
        "# Apply Z-score normalization to your time series data\n",
        "timeseries_normalized = scaler.fit_transform(timeseries)\n",
        "\n",
        "correlation_matrix = np.corrcoef(timeseries_normalized, rowvar=False)\n",
        "\n",
        "# CONNECTOME MATRIX PLOTTING\n",
        "plotting.plot_matrix(\n",
        "    correlation_matrix,\n",
        "    vmin=-1.0,\n",
        "    vmax=1.0,\n",
        "    colorbar=True,\n",
        "    title=\"Power correlation matrix\",\n",
        ")"
      ]
    },
    {
      "cell_type": "code",
      "execution_count": null,
      "metadata": {
        "id": "4BzUHIYRtUa5"
      },
      "outputs": [],
      "source": [
        "display =plotting.plot_connectome(\n",
        "    correlation_matrix,\n",
        "    coords,\n",
        "    title=\"Power correlation graph\",\n",
        "    edge_threshold=\"99.96%\",\n",
        "    node_size=0.5,\n",
        "    colorbar=True,\n",
        ")"
      ]
    },
    {
      "cell_type": "code",
      "execution_count": null,
      "metadata": {
        "id": "ZF8a7xq35tKA",
        "cellView": "form",
        "colab": {
          "base_uri": "https://localhost:8080/",
          "height": 245
        },
        "outputId": "c1a9b349-711a-4a82-997f-e366e631f4f7"
      },
      "outputs": [
        {
          "output_type": "error",
          "ename": "NameError",
          "evalue": "ignored",
          "traceback": [
            "\u001b[0;31m---------------------------------------------------------------------------\u001b[0m",
            "\u001b[0;31mNameError\u001b[0m                                 Traceback (most recent call last)",
            "\u001b[0;32m<ipython-input-5-6af106df4584>\u001b[0m in \u001b[0;36m<cell line: 2>\u001b[0;34m()\u001b[0m\n\u001b[1;32m      1\u001b[0m \u001b[0;31m# @title Example to process a correlation matrix\u001b[0m\u001b[0;34m\u001b[0m\u001b[0;34m\u001b[0m\u001b[0m\n\u001b[0;32m----> 2\u001b[0;31m \u001b[0mpower_correlation_matrix\u001b[0m \u001b[0;34m=\u001b[0m \u001b[0mcorrelation_matrix\u001b[0m\u001b[0;34m\u001b[0m\u001b[0;34m\u001b[0m\u001b[0m\n\u001b[0m\u001b[1;32m      3\u001b[0m \u001b[0mG\u001b[0m \u001b[0;34m=\u001b[0m \u001b[0mnx\u001b[0m\u001b[0;34m.\u001b[0m\u001b[0mGraph\u001b[0m\u001b[0;34m(\u001b[0m\u001b[0;34m)\u001b[0m\u001b[0;34m\u001b[0m\u001b[0;34m\u001b[0m\u001b[0m\n\u001b[1;32m      4\u001b[0m \u001b[0mn\u001b[0m \u001b[0;34m=\u001b[0m \u001b[0mpower_correlation_matrix\u001b[0m\u001b[0;34m.\u001b[0m\u001b[0mshape\u001b[0m\u001b[0;34m[\u001b[0m\u001b[0;36m0\u001b[0m\u001b[0;34m]\u001b[0m  \u001b[0;31m# Number of brain regions\u001b[0m\u001b[0;34m\u001b[0m\u001b[0;34m\u001b[0m\u001b[0m\n\u001b[1;32m      5\u001b[0m \u001b[0;34m\u001b[0m\u001b[0m\n",
            "\u001b[0;31mNameError\u001b[0m: name 'correlation_matrix' is not defined"
          ]
        }
      ],
      "source": [
        "# @title Example to process a correlation matrix\n",
        "power_correlation_matrix = correlation_matrix\n",
        "G = nx.Graph()\n",
        "n = power_correlation_matrix.shape[0]  # Number of brain regions\n",
        "\n",
        "n = power_correlation_matrix.shape[0]\n",
        "mask = ~np.eye(n, dtype=bool)\n",
        "\n",
        "# Calculate the threshold based on the top 0.2% of values, excluding the diagonal\n",
        "# Flatten the correlation matrix, excluding the diagonal\n",
        "values = power_correlation_matrix[mask].flatten()\n",
        "\n",
        "# Sort the values in descending order\n",
        "sorted_values = np.sort(values)[::-1]\n",
        "\n",
        "# Calculate the threshold\n",
        "top_percentage = 0.85\n",
        "threshold_idx = int(len(sorted_values) * top_percentage / 100)\n",
        "threshold = sorted_values[threshold_idx]\n",
        "\n",
        "for i in range(len(correlation_matrix)):\n",
        "    for j in range(i + 1, len(correlation_matrix)):\n",
        "        if abs(correlation_matrix[i, j]) >= threshold:\n",
        "            G.add_edge(i, j)\n",
        "\n"
      ]
    },
    {
      "cell_type": "code",
      "execution_count": null,
      "metadata": {
        "id": "zfsG7QzT6c0t",
        "cellView": "form"
      },
      "outputs": [],
      "source": [
        "#@title Example to print a graph\n",
        "G = control_data.at[9, 'graph']\n",
        "\n",
        "pos = nx.spring_layout(G)\n",
        "node_degrees = dict(G.degree())\n",
        "\n",
        "\n",
        "# Create a Plotly figure\n",
        "fig = go.Figure()\n",
        "\n",
        "# Add nodes to the figure with size proportional to degree\n",
        "for node, (x, y) in pos.items():\n",
        "    fig.add_trace(go.Scatter(x=[x], y=[y], mode=\"markers\", marker=dict(size=1 * node_degrees[node], opacity=0.7), name=str(node_degrees[node])))\n",
        "\n",
        "# Add edges to the figure\n",
        "edge_x = []\n",
        "edge_y = []\n",
        "for edge in G.edges():\n",
        "    x0, y0 = pos[edge[0]]\n",
        "    x1, y1 = pos[edge[1]]\n",
        "    edge_x.extend([x0, x1, None])\n",
        "    edge_y.extend([y0, y1, None])\n",
        "fig.add_trace(go.Scatter(x=edge_x, y=edge_y, mode='lines', line=dict(width=0.5)))\n",
        "\n",
        "# Customize the figure further as needed\n",
        "\n",
        "# Show the interactive plot\n",
        "fig.show()\n",
        "num_nodes = G.number_of_nodes()\n",
        "num_edges = G.number_of_edges()\n",
        "average_degree = sum(node_degrees.values()) / num_nodes\n",
        "\n",
        "# Print the results\n",
        "print(\"Number of Nodes:\", num_nodes)\n",
        "print(\"Number of Edges:\", num_edges)\n",
        "print(\"Average Degree:\", average_degree)"
      ]
    },
    {
      "cell_type": "markdown",
      "metadata": {
        "id": "k70WUKF1BFuc"
      },
      "source": [
        "## Metrics test"
      ]
    },
    {
      "cell_type": "code",
      "execution_count": null,
      "metadata": {
        "id": "zAHqw5B5qeId",
        "cellView": "form"
      },
      "outputs": [],
      "source": [
        "#@title Create random graphs using the same degree frequencies found in the original ones\n",
        "dataframes = [control_data, schz_data, bp_data, adhd_data]\n",
        "conditions = [\"Control\", \"Schizophrenia\", \"Bipolar\", \"ADHD\"]\n",
        "\n",
        "rand_grp = pd.DataFrame(columns=['graph'])\n",
        "\n",
        "for dataframe, condition in zip(dataframes,conditions):\n",
        "  for original_graph in dataframe['graph']:\n",
        "    # Get the degree sequence\n",
        "      degree_sequence = [degree for _, degree in original_graph.degree()]\n",
        "    # Generate multiple random graphs based on the same degree sequence\n",
        "      random_graph = nx.Graph(nx.configuration_model(degree_sequence, create_using=nx.Graph()))\n",
        "    # Add the random graph to the DataFrame\n",
        "      rand_grp = rand_grp.append({'graph':random_graph}, ignore_index=True)"
      ]
    },
    {
      "cell_type": "code",
      "execution_count": null,
      "metadata": {
        "colab": {
          "base_uri": "https://localhost:8080/"
        },
        "id": "xtQ-8D67BI9w",
        "outputId": "bd9a1abb-2556-4b5c-9555-87f1525022b4"
      },
      "outputs": [
        {
          "output_type": "stream",
          "name": "stderr",
          "text": [
            "100%|██████████| 10/10 [00:52<00:00,  5.24s/it]\n",
            "100%|██████████| 10/10 [00:54<00:00,  5.49s/it]\n",
            "100%|██████████| 10/10 [00:54<00:00,  5.47s/it]\n",
            "100%|██████████| 10/10 [00:53<00:00,  5.36s/it]\n",
            "100%|██████████| 40/40 [01:51<00:00,  2.78s/it]\n"
          ]
        }
      ],
      "source": [
        "#@title Processing cycle to compute graph metrics\n",
        "# Wrapper for the dataframes\n",
        "dataframes = [control_data, schz_data, bp_data, adhd_data, rand_grp]\n",
        "conditions = [\"Control\", \"Schizophrenia\", \"Bipolar\", \"ADHD\", \"Random\"]\n",
        "num_processes = multiprocessing.cpu_count()  # Number of available CPU cores\n",
        "\n",
        "# Execution\n",
        "with Pool(processes=num_processes) as pool:\n",
        "    processed_data = pool.starmap(\n",
        "        process_graphs,\n",
        "        [(dataframe, condition) for dataframe, condition in zip(dataframes, conditions)]\n",
        "    )\n",
        "\n",
        "for df, results in zip(dataframes, processed_data):\n",
        "    for result in results:\n",
        "        (row_name, m_closeness, m_betweenness, m_degree, avg_clust,\n",
        "            top5_close, top5_betw,\n",
        "            top5_deg, top5_clust,\n",
        "            modularity, gbe,nc) = result\n",
        "\n",
        "        df.at[row_name, 'closeness'] = m_closeness\n",
        "        df.at[row_name, 'betweenness'] = m_betweenness\n",
        "        df.at[row_name, 'degree'] = m_degree\n",
        "        df.at[row_name, 'clustering'] = avg_clust\n",
        "        df.at[row_name,'top5_close'] = top5_close\n",
        "        df.at[row_name,'top5_betw'] = top5_betw\n",
        "        df.at[row_name,'top5_deg'] = top5_deg\n",
        "        df.at[row_name,'top5_clust'] = top5_clust\n",
        "        df.at[row_name, 'modularity'] = modularity\n",
        "        df.at[row_name, 'global_efficiency'] = gbe\n",
        "        df.at[row_name, 'network_cost'] = nc\n"
      ]
    },
    {
      "cell_type": "code",
      "source": [
        "print_mean_std(dataframes, conditions)"
      ],
      "metadata": {
        "colab": {
          "base_uri": "https://localhost:8080/"
        },
        "id": "N0gE2PZW1qP9",
        "outputId": "931dc7d1-e856-4710-c591-026d0a117163"
      },
      "execution_count": null,
      "outputs": [
        {
          "output_type": "stream",
          "name": "stdout",
          "text": [
            "+-------------------+------------------+-------------------+------------------+------------------+------------------+\n",
            "|      Metric       |     Control      |   Schizophrenia   |     Bipolar      |       ADHD       |      Random      |\n",
            "+-------------------+------------------+-------------------+------------------+------------------+------------------+\n",
            "|     closeness     | 0.1539 ± 0.0185  |  0.1470 ± 0.0249  | 0.1567 ± 0.0186  | 0.1637 ± 0.0230  | 0.3056 ± 0.0143  |\n",
            "|    betweenness    | 0.0067 ± 0.0005  |  0.0064 ± 0.0011  | 0.0071 ± 0.0010  | 0.0064 ± 0.0008  | 0.0037 ± 0.0002  |\n",
            "|      degree       | 8.0808 ± 0.8876  |  8.1042 ± 1.2445  | 8.1753 ± 0.9176  | 8.0478 ± 0.7359  | 7.8957 ± 0.8455  |\n",
            "|    clustering     | 0.3767 ± 0.0277  |  0.3715 ± 0.0373  | 0.3776 ± 0.0331  | 0.3712 ± 0.0452  | 0.0407 ± 0.0139  |\n",
            "|    top5_close     | 0.2274 ± 0.0253  |  0.2226 ± 0.0280  | 0.2280 ± 0.0246  | 0.2365 ± 0.0285  | 0.4035 ± 0.0204  |\n",
            "|     top5_betw     | 0.1048 ± 0.0394  |  0.0815 ± 0.0251  | 0.1207 ± 0.0419  | 0.0814 ± 0.0225  | 0.0384 ± 0.0058  |\n",
            "|     top5_deg      | 42.0800 ± 5.5443 | 43.6800 ± 10.8678 | 41.1200 ± 4.9542 | 44.1800 ± 4.4626 | 40.2150 ± 5.7652 |\n",
            "|    top5_clust     | 1.0000 ± 0.0000  |  1.0000 ± 0.0000  | 1.0000 ± 0.0000  | 1.0000 ± 0.0000  | 0.8315 ± 0.1931  |\n",
            "|    modularity     | 0.6773 ± 0.0479  |  0.6410 ± 0.0738  | 0.6718 ± 0.0362  | 0.6568 ± 0.0469  | 0.0183 ± 0.0464  |\n",
            "| global_efficiency | 0.1869 ± 0.0197  |  0.1792 ± 0.0264  | 0.1921 ± 0.0170  | 0.1946 ± 0.0218  | 0.3256 ± 0.0157  |\n",
            "|   network_cost    |    nan ± nan     |     nan ± nan     |    nan ± nan     |    nan ± nan     |    nan ± nan     |\n",
            "+-------------------+------------------+-------------------+------------------+------------------+------------------+\n"
          ]
        }
      ]
    },
    {
      "cell_type": "code",
      "execution_count": null,
      "metadata": {
        "cellView": "form",
        "colab": {
          "base_uri": "https://localhost:8080/",
          "height": 573
        },
        "id": "Y9L9xnc5HeDT",
        "outputId": "8ba9f908-4759-4422-bf25-20c76e874e21"
      },
      "outputs": [
        {
          "output_type": "display_data",
          "data": {
            "text/plain": [
              "<Figure size 1000x600 with 1 Axes>"
            ],
            "image/png": "[encoded data removed]"
          },
          "metadata": {}
        }
      ],
      "source": [
        "#@title Probability distributions plotter\n",
        "feature = \"modularity\" # @param [\"global_efficiency\", \"closeness\", \"betweenness\", \"degree\", \"top5_deg\", \"top5_close\", \"top5_betw\", \"clustering\", \"degree\", \"top5_clust\", \"modularity\", \"global_efficiency\", \"network_cost\"]\n",
        "# Set the style\n",
        "sns.set(style=\"whitegrid\")\n",
        "\n",
        "# Plotting distributions with KDE and best-fit line\n",
        "plt.figure(figsize=(10, 6))\n",
        "\n",
        "# Control\n",
        "sns.kdeplot(control_data[feature], label='Control', fill=True, common_norm=True, cut = 3,\n",
        "    linewidth=0,)\n",
        "\n",
        "# Schizophrenia\n",
        "sns.kdeplot(schz_data[feature], label='Schizophrenia', fill=True, common_norm=True, cut = 3,\n",
        "    linewidth=0,)\n",
        "\n",
        "# Bipolar\n",
        "sns.kdeplot(bp_data[feature], label='Bipolar', fill=True, common_norm=True, cut = 3,\n",
        "    linewidth=0,)\n",
        "\n",
        "# ADHD\n",
        "sns.kdeplot(adhd_data[feature], label='ADHD', fill=True, common_norm=True, cut = 3,\n",
        "    linewidth=0,)\n",
        "\n",
        "sns.kdeplot(rand_grp[feature], label='Rand', fill=True, common_norm=True, cut = 3,\n",
        "    linewidth=0,)\n",
        "\n",
        "# Adding labels and title\n",
        "plt.xlabel(feature)\n",
        "plt.ylabel('Density')\n",
        "plt.title(feature + ' Distribution across Conditions')\n",
        "\n",
        "# Adding legend\n",
        "plt.legend()\n",
        "\n",
        "# Show the plot\n",
        "plt.show()\n"
      ]
    },
    {
      "cell_type": "markdown",
      "metadata": {
        "id": "0qjTi-sIBxZ_"
      },
      "source": [
        "##z-score, p-values computation"
      ]
    },
    {
      "cell_type": "code",
      "execution_count": null,
      "metadata": {
        "cellView": "form",
        "colab": {
          "base_uri": "https://localhost:8080/"
        },
        "id": "s60buMSMB0Ec",
        "outputId": "7ea93c04-23a5-44b9-8d1c-dca5ed7ba830"
      },
      "outputs": [
        {
          "output_type": "stream",
          "name": "stdout",
          "text": [
            "p-value Schizophrenia vs. Random: 0.000\n",
            "p-value Bipolar vs. Random: 0.000\n",
            "p-value ADHD vs. Random: 0.000\n",
            "p-value Control vs. Random: 0.000\n"
          ]
        }
      ],
      "source": [
        "#@title Features values\n",
        "from scipy.stats import ttest_ind, zscore\n",
        "\n",
        "def calculate_zscores(group, mean, std):\n",
        "    return (group - mean) / std\n",
        "\n",
        "feature = \"modularity\" # @param [\"global_efficiency\", \"closeness\", \"betweenness\", \"degree\", \"top5_deg\", \"top5_close\", \"top5_betw\", \"clustering\", \"degree\", \"top5_clust\", \"modularity\", \"global_efficiency\", \"network_cost\"]\n",
        "\n",
        "# Extract the feature of interest\n",
        "control_global_efficiency = control_data[feature]\n",
        "schz_global_efficiency = schz_data[feature]\n",
        "bp_global_efficiency = bp_data[feature]\n",
        "adhd_global_efficiency = adhd_data[feature]\n",
        "rand_global_efficiency = rand_grp[feature]\n",
        "\n",
        "schz_zscores_vs_random = calculate_zscores(schz_global_efficiency, rand_global_efficiency.mean(), rand_global_efficiency.std())\n",
        "bp_zscores_vs_random = calculate_zscores(bp_global_efficiency, rand_global_efficiency.mean(), rand_global_efficiency.std())\n",
        "adhd_zscores_vs_random = calculate_zscores(adhd_global_efficiency, rand_global_efficiency.mean(), rand_global_efficiency.std())\n",
        "control_zscores_vs_random = calculate_zscores(control_global_efficiency, rand_global_efficiency.mean(), rand_global_efficiency.std())\n",
        "rand_zscores = calculate_zscores(rand_global_efficiency, rand_global_efficiency.mean(), rand_global_efficiency.std())\n",
        "\n",
        "# Perform t-tests between each group and the random group\n",
        "t_stat_schz_vs_random, p_value_schz_vs_random = ttest_ind(schz_zscores_vs_random, rand_zscores, equal_var=False)\n",
        "t_stat_bp_vs_random, p_value_bp_vs_random = ttest_ind(bp_zscores_vs_random, rand_zscores, equal_var=False)\n",
        "t_stat_adhd_vs_random, p_value_adhd_vs_random = ttest_ind(adhd_zscores_vs_random, rand_zscores, equal_var=False)\n",
        "t_stat_control_vs_random, p_value_control_vs_random = ttest_ind(control_zscores_vs_random, rand_zscores, equal_var=False)\n",
        "\n",
        "# Print or use the p-values as needed\n",
        "print(\"p-value Schizophrenia vs. Random: {:.3f}\".format(p_value_schz_vs_random))\n",
        "print(\"p-value Bipolar vs. Random: {:.3f}\".format(p_value_bp_vs_random))\n",
        "print(\"p-value ADHD vs. Random: {:.3f}\".format(p_value_adhd_vs_random))\n",
        "print(\"p-value Control vs. Random: {:.3f}\".format(p_value_control_vs_random))"
      ]
    },
    {
      "cell_type": "markdown",
      "source": [
        "#Motifs"
      ],
      "metadata": {
        "id": "9euFzEWiyhEZ"
      }
    },
    {
      "cell_type": "code",
      "execution_count": null,
      "metadata": {
        "colab": {
          "base_uri": "https://localhost:8080/"
        },
        "id": "v1qoavKGWBiO",
        "outputId": "08cc2ebb-3bc5-4c2f-8dea-48c123854423"
      },
      "outputs": [
        {
          "name": "stdout",
          "output_type": "stream",
          "text": [
            "Collecting python-igraph\n",
            "  Downloading python_igraph-0.11.3-py3-none-any.whl (9.1 kB)\n",
            "Collecting igraph==0.11.3 (from python-igraph)\n",
            "  Downloading igraph-0.11.3-cp39-abi3-manylinux_2_17_x86_64.manylinux2014_x86_64.whl (3.3 MB)\n",
            "\u001b[2K     \u001b[90m━━━━━━━━━━━━━━━━━━━━━━━━━━━━━━━━━━━━━━━━\u001b[0m \u001b[32m3.3/3.3 MB\u001b[0m \u001b[31m24.5 MB/s\u001b[0m eta \u001b[36m0:00:00\u001b[0m\n",
            "\u001b[?25hCollecting texttable>=1.6.2 (from igraph==0.11.3->python-igraph)\n",
            "  Downloading texttable-1.7.0-py2.py3-none-any.whl (10 kB)\n",
            "Installing collected packages: texttable, igraph, python-igraph\n",
            "Successfully installed igraph-0.11.3 python-igraph-0.11.3 texttable-1.7.0\n"
          ]
        }
      ],
      "source": [
        "!pip install python-igraph\n",
        "from igraph import Graph\n"
      ]
    },
    {
      "cell_type": "code",
      "execution_count": null,
      "metadata": {
        "id": "MNuW4JeVZ5VO"
      },
      "outputs": [],
      "source": [
        "import igraph as ig\n",
        "import networkx as nx\n",
        "\n",
        "# Selecting a single row for demonstration purposes\n",
        "selected_row = control_data.iloc[0]\n",
        "\n",
        "# Extracting the NetworkX graph from the 'graph' column\n",
        "nx_graph = selected_row['graph']\n",
        "\n",
        "# Convert the NetworkX graph to an iGraph graph\n",
        "ig_graph = ig.Graph.Adjacency((nx.to_numpy_array(nx_graph) > 0).tolist())\n",
        "\n",
        "# Set the maximum motif size\n",
        "max_motif_size = 4\n",
        "\n",
        "# Count motifs for all motifs up to size k\n",
        "motif_counts = ig_graph.motifs_randesu(max_motif_size)\n",
        "\n",
        "# Print the motif counts\n",
        "print(\"Motif counts:\")\n",
        "for i, count in enumerate(motif_counts):\n",
        "    print(f\"Motif {i+1}: {count}\")\n"
      ]
    },
    {
      "cell_type": "markdown",
      "source": [
        "#CALL FUNCTION FOR BRAIN SUBSETS"
      ],
      "metadata": {
        "id": "nrBvGc0ft0eT"
      }
    },
    {
      "cell_type": "code",
      "source": [
        "#take all the graphs for the patient , in order to understand how many hubs we have,\n",
        "#try also to take all the graphs.\n",
        "#print(control_data)\n",
        "dataframes = [control_data, schz_data, bp_data, adhd_data, rand_grp]\n",
        "conditions = [\"Control\", \"Schizophrenia\", \"Bipolar\", \"ADHD\", \"Random\"]\n",
        "G=control_data.at[0,'graph']\n",
        "\n",
        "modules=modules(G)\n",
        "#we calculate the centrality of each node, for each graph"
      ],
      "metadata": {
        "id": "PpIHx8yWt_I9",
        "colab": {
          "base_uri": "https://localhost:8080/",
          "height": 227
        },
        "outputId": "d80d4328-be28-45ae-804b-b2844b3cd2fd"
      },
      "execution_count": null,
      "outputs": [
        {
          "output_type": "error",
          "ename": "NameError",
          "evalue": "ignored",
          "traceback": [
            "\u001b[0;31m---------------------------------------------------------------------------\u001b[0m",
            "\u001b[0;31mNameError\u001b[0m                                 Traceback (most recent call last)",
            "\u001b[0;32m<ipython-input-31-c6cc54aa5e97>\u001b[0m in \u001b[0;36m<cell line: 8>\u001b[0;34m()\u001b[0m\n\u001b[1;32m      6\u001b[0m \u001b[0mG\u001b[0m\u001b[0;34m=\u001b[0m\u001b[0mcontrol_data\u001b[0m\u001b[0;34m.\u001b[0m\u001b[0mat\u001b[0m\u001b[0;34m[\u001b[0m\u001b[0;36m0\u001b[0m\u001b[0;34m,\u001b[0m\u001b[0;34m'graph'\u001b[0m\u001b[0;34m]\u001b[0m\u001b[0;34m\u001b[0m\u001b[0;34m\u001b[0m\u001b[0m\n\u001b[1;32m      7\u001b[0m \u001b[0;34m\u001b[0m\u001b[0m\n\u001b[0;32m----> 8\u001b[0;31m \u001b[0mmodules\u001b[0m\u001b[0;34m=\u001b[0m\u001b[0mmodules\u001b[0m\u001b[0;34m(\u001b[0m\u001b[0mG\u001b[0m\u001b[0;34m)\u001b[0m\u001b[0;34m\u001b[0m\u001b[0;34m\u001b[0m\u001b[0m\n\u001b[0m\u001b[1;32m      9\u001b[0m \u001b[0;31m#we calculate the centrality of each node, for each graph\u001b[0m\u001b[0;34m\u001b[0m\u001b[0;34m\u001b[0m\u001b[0m\n",
            "\u001b[0;31mNameError\u001b[0m: name 'modules' is not defined"
          ]
        }
      ]
    },
    {
      "cell_type": "markdown",
      "metadata": {
        "id": "lZ5Q0IvTBAkB"
      },
      "source": [
        "#Save, upload zone"
      ]
    },
    {
      "cell_type": "code",
      "execution_count": null,
      "metadata": {
        "cellView": "form",
        "colab": {
          "base_uri": "https://localhost:8080/",
          "height": 104
        },
        "id": "pUWOjHP2xqXr",
        "outputId": "50173597-af44-4d96-c504-253c9eb19157"
      },
      "outputs": [
        {
          "name": "stdout",
          "output_type": "stream",
          "text": [
            "Dataframes saved!\n",
            "  adding: content/control_data.pkl (deflated 37%)\n",
            "  adding: content/schz_data.pkl (deflated 37%)\n",
            "  adding: content/bp_data.pkl (deflated 37%)\n",
            "  adding: content/adhd_data.pkl (deflated 37%)\n"
          ]
        },
        {
          "data": {
            "application/javascript": [
              "\n",
              "    async function download(id, filename, size) {\n",
              "      if (!google.colab.kernel.accessAllowed) {\n",
              "        return;\n",
              "      }\n",
              "      const div = document.createElement('div');\n",
              "      const label = document.createElement('label');\n",
              "      label.textContent = `Downloading \"${filename}\": `;\n",
              "      div.appendChild(label);\n",
              "      const progress = document.createElement('progress');\n",
              "      progress.max = size;\n",
              "      div.appendChild(progress);\n",
              "      document.body.appendChild(div);\n",
              "\n",
              "      const buffers = [];\n",
              "      let downloaded = 0;\n",
              "\n",
              "      const channel = await google.colab.kernel.comms.open(id);\n",
              "      // Send a message to notify the kernel that we're ready.\n",
              "      channel.send({})\n",
              "\n",
              "      for await (const message of channel.messages) {\n",
              "        // Send a message to notify the kernel that we're ready.\n",
              "        channel.send({})\n",
              "        if (message.buffers) {\n",
              "          for (const buffer of message.buffers) {\n",
              "            buffers.push(buffer);\n",
              "            downloaded += buffer.byteLength;\n",
              "            progress.value = downloaded;\n",
              "          }\n",
              "        }\n",
              "      }\n",
              "      const blob = new Blob(buffers, {type: 'application/binary'});\n",
              "      const a = document.createElement('a');\n",
              "      a.href = window.URL.createObjectURL(blob);\n",
              "      a.download = filename;\n",
              "      div.appendChild(a);\n",
              "      a.click();\n",
              "      div.remove();\n",
              "    }\n",
              "  "
            ],
            "text/plain": [
              "<IPython.core.display.Javascript object>"
            ]
          },
          "metadata": {},
          "output_type": "display_data"
        },
        {
          "data": {
            "application/javascript": [
              "download(\"download_747db431-a014-4160-a670-368a8b0195f4\", \"dataframes.zip\", 1722114)"
            ],
            "text/plain": [
              "<IPython.core.display.Javascript object>"
            ]
          },
          "metadata": {},
          "output_type": "display_data"
        }
      ],
      "source": [
        "#@title Save dataframes as csv?\n",
        "save_data = True # @param {type:\"boolean\"}\n",
        "if save_data:\n",
        "      import pickle\n",
        "\n",
        "      # Save dataframes with graphs using Pickle\n",
        "      with open('/content/control_data.pkl', 'wb') as file:\n",
        "          pickle.dump(control_data, file)\n",
        "\n",
        "      with open('/content/schz_data.pkl', 'wb') as file:\n",
        "          pickle.dump(schz_data, file)\n",
        "\n",
        "      with open('/content/bp_data.pkl', 'wb') as file:\n",
        "          pickle.dump(bp_data, file)\n",
        "\n",
        "      with open('/content/adhd_data.pkl', 'wb') as file:\n",
        "          pickle.dump(adhd_data, file)\n",
        "      print('Dataframes saved!')\n",
        "\n",
        "download_data = True # @param {type:\"boolean\"}\n",
        "if download_data:\n",
        "  from google.colab import files\n",
        "  zip_file = '/content/dataframes.zip'\n",
        "  !zip -r dataframes.zip /content/control_data.pkl /content/schz_data.pkl /content/bp_data.pkl /content/adhd_data.pkl\n",
        "  files.download(zip_file)"
      ]
    }
  ],
  "metadata": {
    "colab": {
      "provenance": [],
      "collapsed_sections": [
        "pAF3VRXlA7hr"
      ],
      "include_colab_link": true
    },
    "kernelspec": {
      "display_name": "Python 3",
      "name": "python3"
    },
    "language_info": {
      "name": "python"
    }
  },
  "nbformat": 4,
  "nbformat_minor": 0
}