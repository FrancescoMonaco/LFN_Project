{
  "cells": [
    {
      "cell_type": "markdown",
      "metadata": {
        "id": "view-in-github",
        "colab_type": "text"
      },
      "source": [
        "<a href=\"https://colab.research.google.com/github/FrancescoMonaco/LFN_Project/blob/main/LFN_Project.ipynb\" target=\"_parent\"><img src=\"https://colab.research.google.com/assets/colab-badge.svg\" alt=\"Open In Colab\"/></a>"
      ]
    },
    {
      "cell_type": "markdown",
      "metadata": {
        "id": "OYGZwaqH7ay5"
      },
      "source": [
        "# Installations, Imports, Data Retrieval\n",
        "\n"
      ]
    },
    {
      "cell_type": "code",
      "execution_count": null,
      "metadata": {
        "id": "ghgod2aNo1Cs"
      },
      "outputs": [],
      "source": [
        "#@title Libraries install and imports\n",
        "%%capture\n",
        "!pip install nilearn\n",
        "!pip install plotly\n",
        "!pip install python-louvain\n",
        "\n",
        "import warnings\n",
        "warnings.simplefilter(action='ignore', category=FutureWarning)\n",
        "#*** Libraries to manipulate fMRI data\n",
        "from nilearn import datasets, plotting\n",
        "from nilearn.maskers import NiftiMapsMasker, NiftiSpheresMasker\n",
        "from nilearn.input_data import NiftiLabelsMasker\n",
        "#*** Libraries for graphs\n",
        "import networkx as nx\n",
        "#*** Basic imports\n",
        "import numpy as np\n",
        "import matplotlib.pyplot as plt\n",
        "import seaborn as sns\n",
        "import plotly.graph_objects as go\n",
        "import pandas as pd\n",
        "import gc, os\n",
        "from tqdm import tqdm\n",
        "import scipy.stats as stats\n",
        "import pickle\n",
        "#*** Scaler for the data\n",
        "from sklearn.preprocessing import StandardScaler\n",
        "#*** Multiprocessing tools\n",
        "import multiprocessing\n",
        "from multiprocessing import Pool\n",
        "\n",
        "# Install the python-greedu modularity package\n",
        "import matplotlib.cm as cm\n",
        "from networkx.algorithms import community\n",
        "from networkx.algorithms.community import greedy_modularity_communities"
      ]
    },
    {
      "cell_type": "code",
      "execution_count": null,
      "metadata": {
        "id": "J53YlGWubjXv",
        "colab": {
          "base_uri": "https://localhost:8080/",
          "height": 128
        },
        "outputId": "10c5786e-de27-4f4c-ea0c-49ced08c3a6c"
      },
      "outputs": [
        {
          "output_type": "execute_result",
          "data": {
            "text/plain": [
              "'\\n%%capture\\n!echo \"deb http://downloads.skewed.de/apt jammy main\" >> /etc/apt/sources.list\\n!apt-key adv --keyserver keyserver.ubuntu.com --recv-key 612DEFB798507F25\\n!apt-get update\\n!apt-get install python3-graph-tool python3-matplotlib python3-cairo\\n!apt purge python3-cairo\\n!apt install libcairo2-dev pkg-config python3-dev\\n!pip install --force-reinstall pycairo\\n!pip install zstandard\\n!pip install --force-reinstall nilearn\\n'"
            ],
            "application/vnd.google.colaboratory.intrinsic+json": {
              "type": "string"
            }
          },
          "metadata": {},
          "execution_count": 2
        }
      ],
      "source": [
        "#@title Download graph-tool\n",
        "'''\n",
        "%%capture\n",
        "!echo \"deb http://downloads.skewed.de/apt jammy main\" >> /etc/apt/sources.list\n",
        "!apt-key adv --keyserver keyserver.ubuntu.com --recv-key 612DEFB798507F25\n",
        "!apt-get update\n",
        "!apt-get install python3-graph-tool python3-matplotlib python3-cairo\n",
        "!apt purge python3-cairo\n",
        "!apt install libcairo2-dev pkg-config python3-dev\n",
        "!pip install --force-reinstall pycairo\n",
        "!pip install zstandard\n",
        "!pip install --force-reinstall nilearn\n",
        "'''"
      ]
    },
    {
      "cell_type": "code",
      "execution_count": null,
      "metadata": {
        "colab": {
          "base_uri": "https://localhost:8080/"
        },
        "id": "tqGAZcRfFCZ9",
        "outputId": "5b397431-cd1d-4aea-81b0-ca7fb6da5c90"
      },
      "outputs": [
        {
          "output_type": "stream",
          "name": "stdout",
          "text": [
            "--2023-12-30 10:58:55--  http://raw.githubusercontent.com/FrancescoMonaco/LFN_Project/main/graph_metrics.py\n",
            "Resolving raw.githubusercontent.com (raw.githubusercontent.com)... 185.199.111.133, 185.199.109.133, 185.199.110.133, ...\n",
            "Connecting to raw.githubusercontent.com (raw.githubusercontent.com)|185.199.111.133|:80... connected.\n",
            "HTTP request sent, awaiting response... 301 Moved Permanently\n",
            "Location: https://raw.githubusercontent.com/FrancescoMonaco/LFN_Project/main/graph_metrics.py [following]\n",
            "--2023-12-30 10:58:55--  https://raw.githubusercontent.com/FrancescoMonaco/LFN_Project/main/graph_metrics.py\n",
            "Connecting to raw.githubusercontent.com (raw.githubusercontent.com)|185.199.111.133|:443... connected.\n",
            "HTTP request sent, awaiting response... 200 OK\n",
            "Length: 7098 (6.9K) [text/plain]\n",
            "Saving to: ‘graph_metrics.py’\n",
            "\n",
            "\rgraph_metrics.py      0%[                    ]       0  --.-KB/s               \rgraph_metrics.py    100%[===================>]   6.93K  --.-KB/s    in 0s      \n",
            "\n",
            "2023-12-30 10:58:55 (73.5 MB/s) - ‘graph_metrics.py’ saved [7098/7098]\n",
            "\n",
            "URL transformed to HTTPS due to an HSTS policy\n",
            "--2023-12-30 10:58:55--  https://raw.githubusercontent.com/FrancescoMonaco/LFN_Project/main/findpartitionofbrain.py\n",
            "Resolving raw.githubusercontent.com (raw.githubusercontent.com)... 185.199.108.133, 185.199.109.133, 185.199.110.133, ...\n",
            "Connecting to raw.githubusercontent.com (raw.githubusercontent.com)|185.199.108.133|:443... connected.\n",
            "HTTP request sent, awaiting response... 200 OK\n",
            "Length: 1596 (1.6K) [text/plain]\n",
            "Saving to: ‘findpartitionofbrain.py’\n",
            "\n",
            "findpartitionofbrai 100%[===================>]   1.56K  --.-KB/s    in 0s      \n",
            "\n",
            "2023-12-30 10:58:55 (14.5 MB/s) - ‘findpartitionofbrain.py’ saved [1596/1596]\n",
            "\n",
            "URL transformed to HTTPS due to an HSTS policy\n",
            "--2023-12-30 10:58:55--  https://raw.githubusercontent.com/FrancescoMonaco/LFN_Project/main/mri_to_graph.py\n",
            "Resolving raw.githubusercontent.com (raw.githubusercontent.com)... 185.199.111.133, 185.199.109.133, 185.199.110.133, ...\n",
            "Connecting to raw.githubusercontent.com (raw.githubusercontent.com)|185.199.111.133|:443... connected.\n",
            "HTTP request sent, awaiting response... 200 OK\n",
            "Length: 3686 (3.6K) [text/plain]\n",
            "Saving to: ‘mri_to_graph.py’\n",
            "\n",
            "mri_to_graph.py     100%[===================>]   3.60K  --.-KB/s    in 0s      \n",
            "\n",
            "2023-12-30 10:58:56 (31.3 MB/s) - ‘mri_to_graph.py’ saved [3686/3686]\n",
            "\n",
            "URL transformed to HTTPS due to an HSTS policy\n",
            "--2023-12-30 10:58:56--  https://raw.githubusercontent.com/FrancescoMonaco/LFN_Project/main/graph_plotter.py\n",
            "Resolving raw.githubusercontent.com (raw.githubusercontent.com)... 185.199.110.133, 185.199.109.133, 185.199.108.133, ...\n",
            "Connecting to raw.githubusercontent.com (raw.githubusercontent.com)|185.199.110.133|:443... connected.\n",
            "HTTP request sent, awaiting response... 200 OK\n",
            "Length: 2101 (2.1K) [text/plain]\n",
            "Saving to: ‘graph_plotter.py’\n",
            "\n",
            "graph_plotter.py    100%[===================>]   2.05K  --.-KB/s    in 0s      \n",
            "\n",
            "2023-12-30 10:58:56 (20.1 MB/s) - ‘graph_plotter.py’ saved [2101/2101]\n",
            "\n",
            "URL transformed to HTTPS due to an HSTS policy\n",
            "--2023-12-30 10:58:56--  https://raw.githubusercontent.com/FrancescoMonaco/LFN_Project/main/motif_plotter.py\n",
            "Resolving raw.githubusercontent.com (raw.githubusercontent.com)... 185.199.109.133, 185.199.111.133, 185.199.108.133, ...\n",
            "Connecting to raw.githubusercontent.com (raw.githubusercontent.com)|185.199.109.133|:443... connected.\n",
            "HTTP request sent, awaiting response... 200 OK\n",
            "Length: 2973 (2.9K) [text/plain]\n",
            "Saving to: ‘motif_plotter.py’\n",
            "\n",
            "motif_plotter.py    100%[===================>]   2.90K  --.-KB/s    in 0s      \n",
            "\n",
            "2023-12-30 10:58:56 (23.7 MB/s) - ‘motif_plotter.py’ saved [2973/2973]\n",
            "\n"
          ]
        }
      ],
      "source": [
        "#@title Imports from external py files\n",
        "import requests\n",
        "base_url = \"raw.githubusercontent.com/FrancescoMonaco/LFN_Project/main\"\n",
        "files_to_download = [\"graph_metrics.py\", \"findpartitionofbrain.py\", \"mri_to_graph.py\", \"graph_plotter.py\", \"motif_plotter.py\"]\n",
        "for file_name in files_to_download:\n",
        "      file_url = f\"{base_url}/{file_name}\"\n",
        "      !wget {file_url}\n",
        "\n",
        "import nilearn\n",
        "\n",
        "from graph_metrics import *\n",
        "from mri_to_graph import *\n",
        "from findpartitionofbrain import *\n",
        "from graph_plotter import *\n",
        "#from motif_plotter import *"
      ]
    },
    {
      "cell_type": "code",
      "execution_count": null,
      "metadata": {
        "id": "G78iEb6snQcX"
      },
      "outputs": [],
      "source": [
        "#@title Download precomputed data or original (original needs about 10 minutes of processing)\n",
        "%%capture\n",
        "prec = True # @param {type:\"boolean\"}\n",
        "if prec:\n",
        "  import requests\n",
        "  import pickle\n",
        "  base_url = \"raw.githubusercontent.com/FrancescoMonaco/LFN_Project/main\"\n",
        "  files_to_download = [\"Dataframes/adhd_data.pkl\", \"Dataframes/control_data.pkl\", \"Dataframes/bp_data.pkl\", \"Dataframes/schz_data.pkl\"]\n",
        "\n",
        "# Download each file\n",
        "  for file_name in files_to_download:\n",
        "      file_url = f\"{base_url}/{file_name}\"\n",
        "      !wget {file_url}\n",
        "  # Load dataframes with graphs using Pickle\n",
        "  with open('/content/control_data.pkl', 'rb') as file:\n",
        "      control_data = pickle.load(file)\n",
        "\n",
        "  with open('/content/schz_data.pkl', 'rb') as file:\n",
        "      schz_data = pickle.load(file)\n",
        "\n",
        "  with open('/content/bp_data.pkl', 'rb') as file:\n",
        "      bp_data = pickle.load(file)\n",
        "\n",
        "  with open('/content/adhd_data.pkl', 'rb') as file:\n",
        "      adhd_data = pickle.load(file)\n",
        "else:\n",
        "  # Load the brain atlas\n",
        "  atlas = datasets.fetch_atlas_msdl()\n",
        "  # Load the atlas image stored in 'maps'\n",
        "  atlas_filename = atlas[\"maps\"]\n",
        "  # Load atlas data stored in 'labels'\n",
        "  labels = atlas[\"labels\"]\n",
        "\n",
        "  # Load the dataset\n",
        "  _, urls = datasets.fetch_ds000030_urls()\n",
        "\n",
        "  selected_subjects = [\n",
        "      'sub-10159', 'sub-10171', 'sub-10189', 'sub-10206', 'sub-10217',\n",
        "      'sub-10292', 'sub-10524', 'sub-10316', 'sub-10940', 'sub-11156',\n",
        "      'sub-50004', 'sub-50005', 'sub-50006', 'sub-50007', 'sub-50008',\n",
        "      'sub-50010', 'sub-50013', 'sub-50014', 'sub-50015', 'sub-50016',\n",
        "      'sub-60001', 'sub-60005', 'sub-60006', 'sub-60008', 'sub-60010',\n",
        "      'sub-60011', 'sub-60012', 'sub-60014', 'sub-60015', 'sub-60016',\n",
        "      'sub-70017', 'sub-70020', 'sub-70021', 'sub-70022', 'sub-70026',\n",
        "      'sub-70029', 'sub-70033', 'sub-70034', 'sub-70083', 'sub-70086'\n",
        "  ]\n",
        "\n",
        "  filtered_urls = [url for url in urls if any(subject in url for subject in selected_subjects)]\n",
        "\n",
        "  # Define exclusion patterns to exclude unwanted data\n",
        "  exclusion_patterns = [\n",
        "      \"*/freesurfer/*\"\n",
        "      \"*derivatives/task*\",\n",
        "      \"*task_group*\",\n",
        "      \"*/anat/*\",\n",
        "      \"*group*\",\n",
        "      \"*phenotype*\",\n",
        "      \"*mriqc*\",\n",
        "      \"*parameter_plots*\",\n",
        "      \"*physio_plots*\",\n",
        "      \"*space-fsaverage*\",\n",
        "      \"*space-T1w*\",\n",
        "      \"*dwi*\",\n",
        "      \"*beh*\",\n",
        "      \"*task-bart*\",\n",
        "      \"*task-pamenc*\",\n",
        "      \"*task-pamret*\",\n",
        "      \"*task-scap*\",\n",
        "      \"*task-task*\",\n",
        "      \"*task-stopsignal*\",\n",
        "      \"*task-bht*\"\n",
        "  ]\n",
        "\n",
        "  # Apply the filters to select subjects and exclude unwanted data\n",
        "  urls = datasets.select_from_index(\n",
        "      filtered_urls, exclusion_filters=exclusion_patterns\n",
        "  )\n",
        "\n",
        "  try:\n",
        "      # Fetch the selected subjects' data\n",
        "      data_dir, _ = datasets.fetch_openneuro_dataset(urls=urls)\n",
        "  except Exception as e:\n",
        "      print(f\"Finished, except: {e}\")"
      ]
    },
    {
      "cell_type": "code",
      "execution_count": null,
      "metadata": {
        "cellView": "form",
        "id": "SV8_RWMwk7ed"
      },
      "outputs": [],
      "source": [
        "#@title Variables for data retrieval and manipulation\n",
        "if not prec:\n",
        "  base_path = \"/root/nilearn_data/ds000030/ds000030_R1.0.4/uncompressed/derivatives/fmriprep/\"\n",
        "\n",
        "  # Dataframes\n",
        "  cols = ['data', 'confounds', 'graph', 'nodes', 'edges']\n",
        "  control_data = pd.DataFrame(columns=cols)\n",
        "  schz_data = pd.DataFrame(columns=cols)\n",
        "  bp_data = pd.DataFrame(columns=cols)\n",
        "  adhd_data = pd.DataFrame(columns=cols)\n",
        "\n",
        "  # Visit each subject's folder\n",
        "  for subject_folder in os.scandir(base_path):\n",
        "      if subject_folder.is_dir():\n",
        "          condition = subject_folder.name[4]  # Extract the condition from the subject id\n",
        "\n",
        "          # Variables\n",
        "          data_path = None\n",
        "          confounds_data = None\n",
        "\n",
        "          # Retrieve the data\n",
        "\n",
        "          func_path = os.path.join(subject_folder.path, \"func\")\n",
        "          for func_file in os.scandir(func_path):\n",
        "            # Find the confounds variables file\n",
        "                if func_file.name.endswith(\".tsv\"):\n",
        "                      confounds_data = pd.read_csv(func_file.path, sep='\\t')\n",
        "            # Find the resting state fmri\n",
        "                if func_file.name.endswith(\"preproc.nii.gz\"):\n",
        "                      data_path = func_file.path\n",
        "\n",
        "          # Add data to the respective dataframe\n",
        "          if condition == \"1\":\n",
        "              control_data.loc[len(control_data)] = [data_path, confounds_data, None, None, None]\n",
        "          elif condition == \"5\":\n",
        "              schz_data.loc[len(schz_data)] = [data_path, confounds_data, None, None, None]\n",
        "          elif condition == \"6\":\n",
        "              bp_data.loc[len(bp_data)] = [data_path, confounds_data, None, None, None]\n",
        "          elif condition == \"7\":\n",
        "              adhd_data.loc[len(adhd_data)] = [data_path, confounds_data, None, None, None]"
      ]
    },
    {
      "cell_type": "markdown",
      "metadata": {
        "id": "idUdlfP47lhK"
      },
      "source": [
        "# MRI to Graph\n",
        "This converts fMRIs to graphs using a data-adaptive algorithm"
      ]
    },
    {
      "cell_type": "code",
      "execution_count": null,
      "metadata": {
        "id": "Gv8Pe7sU1qW4",
        "colab": {
          "base_uri": "https://localhost:8080/"
        },
        "outputId": "1702106d-ba0a-4819-a243-22d7cc5b7256"
      },
      "outputs": [
        {
          "output_type": "stream",
          "name": "stdout",
          "text": [
            "\n",
            "Dataset created in /root/nilearn_data/schaefer_2018\n",
            "\n",
            "Downloading data from https://raw.githubusercontent.com/ThomasYeoLab/CBIG/v0.14.3-Update_Yeo2011_Schaefer2018_labelname/stable_projects/brain_parcellation/Schaefer2018_LocalGlobal/Parcellations/MNI/Schaefer2018_1000Parcels_7Networks_order.txt ...\n"
          ]
        },
        {
          "output_type": "stream",
          "name": "stderr",
          "text": [
            " ...done. (0 seconds, 0 min)\n",
            " ...done. (0 seconds, 0 min)\n"
          ]
        },
        {
          "output_type": "stream",
          "name": "stdout",
          "text": [
            "Downloading data from https://raw.githubusercontent.com/ThomasYeoLab/CBIG/v0.14.3-Update_Yeo2011_Schaefer2018_labelname/stable_projects/brain_parcellation/Schaefer2018_LocalGlobal/Parcellations/MNI/Schaefer2018_1000Parcels_7Networks_order_FSLMNI152_1mm.nii.gz ...\n"
          ]
        }
      ],
      "source": [
        "#@title Load brain atlas\n",
        "import nibabel as nib\n",
        "schaefer_1000 = datasets.fetch_atlas_schaefer_2018(n_rois=1000, yeo_networks=7, resolution_mm=1, verbose=1)\n",
        "\n",
        "# Load the atlas data\n",
        "atlas_img = nib.load(schaefer_1000.maps)\n",
        "\n",
        "# ROIs coordinates\n",
        "coords = np.vstack(np.where(atlas_img.get_fdata() > 0)).T"
      ]
    },
    {
      "cell_type": "code",
      "execution_count": null,
      "metadata": {
        "id": "eYS8Klez4v2i"
      },
      "outputs": [],
      "source": [
        "#@title Transform loop\n",
        "dataframes = [control_data, schz_data, bp_data, adhd_data]\n",
        "\n",
        "# Create processors for the data\n",
        "if not prec:\n",
        "    # Timeseries extractor\n",
        "  spheres_masker = NiftiLabelsMasker(\n",
        "      labels_img=schaefer_1000.maps,\n",
        "      smoothing_fwhm=1,\n",
        "      detrend=True,\n",
        "      standardize=\"zscore_sample\",\n",
        "      t_r=None\n",
        "  )\n",
        "\n",
        "  threshold = 0.85 # @param {type:\"slider\", min:0, max:1, step:0.01}\n",
        "\n",
        "  # Wrapper for the dataframes\n",
        "  dataframes = [control_data, schz_data, bp_data, adhd_data]\n",
        "  conditions = [\"Control\", \"Schizophrenia\", \"Bipolar\", \"ADHD\"]\n",
        "  num_processes = multiprocessing.cpu_count()  # Number of available CPU cores\n",
        "\n",
        "  # Execution\n",
        "  with Pool(processes=num_processes) as pool:\n",
        "      processed_data = pool.starmap(\n",
        "          process_dataframe,\n",
        "          [(dataframe, condition, spheres_masker, threshold) for dataframe, condition in zip(dataframes, conditions)]\n",
        "      )\n",
        "  for df, results in zip(dataframes, processed_data):\n",
        "      for result in results:\n",
        "          row_name, G, num_nodes, num_edges, corr_matr, num_nodes_per_component = result\n",
        "          df.at[row_name, 'graph'] = G\n",
        "          df.at[row_name, 'nodes'] = num_nodes\n",
        "          df.at[row_name, 'edges'] = num_edges\n",
        "          df.at[row_name, 'matrix'] =  tuple(corr_matr)\n",
        "          df.at[row_name, 'nodes_per_component'] =  num_nodes_per_component"
      ]
    },
    {
      "cell_type": "code",
      "execution_count": null,
      "metadata": {
        "colab": {
          "base_uri": "https://localhost:8080/"
        },
        "id": "rvQIQz9f-7pC",
        "outputId": "7d631978-0f80-4a7f-fb69-c24f1d90ba69"
      },
      "outputs": [
        {
          "output_type": "stream",
          "name": "stdout",
          "text": [
            "Mean Nodes: 757.825\n",
            "Mean Edges: 4246.0\n"
          ]
        },
        {
          "output_type": "execute_result",
          "data": {
            "text/plain": [
              "0"
            ]
          },
          "metadata": {},
          "execution_count": 8
        }
      ],
      "source": [
        "#@title Compute mean number of nodes and edges\n",
        "# Concatenate all dataframes into one\n",
        "combined_data = pd.concat(dataframes)\n",
        "\n",
        "# Calculate the mean number of nodes and edges\n",
        "mean_nodes = combined_data['nodes'].mean()\n",
        "mean_edges = combined_data['edges'].mean()\n",
        "\n",
        "print(f\"Mean Nodes: {mean_nodes}\")\n",
        "print(f\"Mean Edges: {mean_edges}\")\n",
        "\n",
        "# Run garbage collection\n",
        "del mean_nodes, mean_edges, combined_data\n",
        "gc.collect()"
      ]
    },
    {
      "cell_type": "markdown",
      "metadata": {
        "id": "Mbws5Cnz-1JQ"
      },
      "source": [
        "# Graph Analysis\n",
        "Local and global features, significance w.r.t. random graphs, analysis on the features"
      ]
    },
    {
      "cell_type": "markdown",
      "metadata": {
        "id": "k70WUKF1BFuc"
      },
      "source": [
        "## Metrics on the graph"
      ]
    },
    {
      "cell_type": "code",
      "execution_count": null,
      "metadata": {
        "id": "zAHqw5B5qeId"
      },
      "outputs": [],
      "source": [
        "#@title Create random graphs using the same degree frequencies found in the original ones\n",
        "dataframes = [control_data, schz_data, bp_data, adhd_data]\n",
        "conditions = [\"Control\", \"Schizophrenia\", \"Bipolar\", \"ADHD\"]\n",
        "\n",
        "rand_grp = pd.DataFrame(columns=['graph'])\n",
        "\n",
        "for dataframe, condition in zip(dataframes,conditions):\n",
        "  for original_graph in dataframe['graph']:\n",
        "    # Get the degree sequence\n",
        "      degree_sequence = [degree for _, degree in original_graph.degree()]\n",
        "    # Generate multiple random graphs based on the same degree sequence\n",
        "      random_graph = nx.Graph(nx.configuration_model(degree_sequence, create_using=nx.Graph()))\n",
        "    # Add the random graph to the DataFrame\n",
        "      rand_grp = rand_grp.append({'graph':random_graph, 'edges':random_graph.number_of_edges(), 'nodes': random_graph.number_of_nodes()}, ignore_index=True)"
      ]
    },
    {
      "cell_type": "code",
      "execution_count": null,
      "metadata": {
        "colab": {
          "base_uri": "https://localhost:8080/"
        },
        "id": "xtQ-8D67BI9w",
        "outputId": "7b57c366-0148-4a57-8f25-e198e028b2ff"
      },
      "outputs": [
        {
          "output_type": "stream",
          "name": "stderr",
          "text": [
            "100%|██████████| 10/10 [04:55<00:00, 29.59s/it]\n",
            "100%|██████████| 10/10 [05:24<00:00, 32.46s/it]\n",
            "100%|██████████| 10/10 [04:13<00:00, 25.31s/it]\n",
            "100%|██████████| 10/10 [04:34<00:00, 27.48s/it]\n",
            "100%|██████████| 40/40 [05:15<00:00,  7.88s/it]\n"
          ]
        }
      ],
      "source": [
        "#@title Processing cycle to compute graph metrics\n",
        "# Wrapper for the dataframes\n",
        "dataframes = [control_data, schz_data, bp_data, adhd_data, rand_grp]\n",
        "conditions = [\"Control\", \"Schizophrenia\", \"Bipolar\", \"ADHD\", \"Random\"]\n",
        "num_processes = multiprocessing.cpu_count()  # Number of available CPU cores\n",
        "\n",
        "# Execution\n",
        "with Pool(processes=num_processes) as pool:\n",
        "    processed_data = pool.starmap(\n",
        "        process_graphs,\n",
        "        [(dataframe, condition) for dataframe, condition in zip(dataframes, conditions)]\n",
        "    )\n",
        "\n",
        "for df, results in zip(dataframes, processed_data):\n",
        "    for result in results:\n",
        "        (row_name, m_closeness, m_betweenness, m_degree, avg_clust,\n",
        "            top5_close, top5_betw,\n",
        "            top5_deg, top5_clust,\n",
        "            modularity, gbe,nc,ass, tran) = result\n",
        "\n",
        "        df.at[row_name, 'closeness'] = m_closeness\n",
        "        df.at[row_name, 'betweenness'] = m_betweenness\n",
        "        df.at[row_name, 'degree'] = m_degree\n",
        "        df.at[row_name, 'clustering'] = avg_clust\n",
        "        df.at[row_name,'top5_close'] = top5_close\n",
        "        df.at[row_name,'top5_betw'] = top5_betw\n",
        "        df.at[row_name,'top5_deg'] = top5_deg\n",
        "        df.at[row_name,'top5_clust'] = top5_clust\n",
        "        df.at[row_name, 'modularity'] = modularity\n",
        "        df.at[row_name, 'global_efficiency'] = gbe\n",
        "        df.at[row_name, 'network_cost'] = nc\n",
        "        df.at[row_name, 'assortativity'] = ass\n",
        "        df.at[row_name, 'transitivity'] = tran\n",
        "\n"
      ]
    },
    {
      "cell_type": "code",
      "execution_count": null,
      "metadata": {
        "id": "N0gE2PZW1qP9",
        "colab": {
          "base_uri": "https://localhost:8080/"
        },
        "outputId": "2bd0a03e-187f-44c7-d5fc-65607d7386fe"
      },
      "outputs": [
        {
          "output_type": "stream",
          "name": "stdout",
          "text": [
            "+-------------------+--------------------+--------------------+--------------------+--------------------+---------------------+\n",
            "|      Metric       |      Control       |   Schizophrenia    |      Bipolar       |        ADHD        |       Random        |\n",
            "+-------------------+--------------------+--------------------+--------------------+--------------------+---------------------+\n",
            "|     closeness     |  0.1961 ± 0.0160   |  0.1929 ± 0.0261   |  0.2049 ± 0.0109   |  0.2074 ± 0.0192   |   0.3300 ± 0.0104   |\n",
            "|    betweenness    |  0.0048 ± 0.0005   |  0.0049 ± 0.0007   |  0.0048 ± 0.0006   |  0.0047 ± 0.0006   |   0.0027 ± 0.0001   |\n",
            "|      degree       |  11.1633 ± 0.8526  |  11.4453 ± 1.4024  |  11.3997 ± 1.0876  |  11.1900 ± 0.9379  |  10.9604 ± 0.9318   |\n",
            "|    clustering     |  0.3913 ± 0.0292   |  0.3870 ± 0.0306   |  0.3933 ± 0.0325   |  0.3853 ± 0.0549   |   0.0480 ± 0.0141   |\n",
            "|    top5_close     |  0.2692 ± 0.0235   |  0.2687 ± 0.0312   |  0.2768 ± 0.0122   |  0.2824 ± 0.0194   |   0.4267 ± 0.0155   |\n",
            "|     top5_betw     |  0.0630 ± 0.0178   |  0.0601 ± 0.0193   |  0.0605 ± 0.0146   |  0.0506 ± 0.0126   |   0.0281 ± 0.0044   |\n",
            "|     top5_deg      |  57.4600 ± 8.3406  | 59.4600 ± 14.3555  |  54.4600 ± 6.9423  |  58.3200 ± 4.5589  |  53.3950 ± 7.1955   |\n",
            "|    top5_clust     |  1.0000 ± 0.0000   |  1.0000 ± 0.0000   |  1.0000 ± 0.0000   |  1.0000 ± 0.0000   |   0.8362 ± 0.1452   |\n",
            "|    modularity     |  7.6606 ± 2.5732   |  7.2719 ± 3.4998   |  5.7359 ± 1.9093   |  6.0424 ± 1.7606   |   0.4502 ± 0.2065   |\n",
            "| global_efficiency |  0.2287 ± 0.0147   |  0.2258 ± 0.0234   |  0.2377 ± 0.0111   |  0.2384 ± 0.0175   |   0.3504 ± 0.0116   |\n",
            "|       edges       | 4246.0000 ± 0.0000 | 4246.0000 ± 0.0000 | 4246.0000 ± 0.0000 | 4246.0000 ± 0.0000 | 4121.7000 ± 41.2567 |\n",
            "|       nodes       | 764.8000 ± 59.6952 | 751.8000 ± 89.6955 | 751.1000 ± 71.9729 | 763.6000 ± 62.6280 | 757.8250 ± 69.4365  |\n",
            "|   network_cost    |     nan ± nan      |     nan ± nan      |     nan ± nan      |     nan ± nan      |      nan ± nan      |\n",
            "|   assortativity   |  0.3459 ± 0.0758   |  0.3680 ± 0.0776   |  0.3104 ± 0.1103   |  0.3823 ± 0.0794   |  -0.0184 ± 0.0149   |\n",
            "|   transitivity    |  0.4369 ± 0.0289   |  0.4322 ± 0.0442   |  0.4317 ± 0.0393   |  0.4320 ± 0.0569   |   0.0540 ± 0.0158   |\n",
            "+-------------------+--------------------+--------------------+--------------------+--------------------+---------------------+\n"
          ]
        }
      ],
      "source": [
        "#@title Print mean and std of the computed features across the various conditions\n",
        "print_mean_std(dataframes, conditions)"
      ]
    },
    {
      "cell_type": "markdown",
      "metadata": {
        "id": "0qjTi-sIBxZ_"
      },
      "source": [
        "###z-score, p-values computation\n",
        "Interactive check of the significance of the features, probability of observing the data given the means of the group and the controls."
      ]
    },
    {
      "cell_type": "code",
      "execution_count": null,
      "metadata": {
        "cellView": "form",
        "id": "s60buMSMB0Ec",
        "colab": {
          "base_uri": "https://localhost:8080/"
        },
        "outputId": "400fe093-736a-4281-8503-e24679e67a93"
      },
      "outputs": [
        {
          "output_type": "stream",
          "name": "stdout",
          "text": [
            "p-value Schizophrenia vs. Random: 0.000\n",
            "p-value Bipolar vs. Random: 0.000\n",
            "p-value ADHD vs. Random: 0.000\n",
            "p-value Control vs. Random: 0.000\n"
          ]
        }
      ],
      "source": [
        "#@title Features values\n",
        "from scipy.stats import ttest_ind, zscore\n",
        "\n",
        "def calculate_zscores(group, mean, std):\n",
        "    return (group - mean) / std\n",
        "\n",
        "feature = \"clustering\" # @param [\"global_efficiency\", \"closeness\", \"betweenness\", \"degree\", \"top5_deg\", \"top5_close\", \"top5_betw\", \"clustering\", \"degree\", \"top5_clust\", \"modularity\", \"global_efficiency\", \"network_cost\"]\n",
        "\n",
        "# Extract the feature of interest\n",
        "control_global_efficiency = control_data[feature]\n",
        "schz_global_efficiency = schz_data[feature]\n",
        "bp_global_efficiency = bp_data[feature]\n",
        "adhd_global_efficiency = adhd_data[feature]\n",
        "rand_global_efficiency = rand_grp[feature]\n",
        "\n",
        "schz_zscores_vs_random = calculate_zscores(schz_global_efficiency, rand_global_efficiency.mean(), rand_global_efficiency.std())\n",
        "bp_zscores_vs_random = calculate_zscores(bp_global_efficiency, rand_global_efficiency.mean(), rand_global_efficiency.std())\n",
        "adhd_zscores_vs_random = calculate_zscores(adhd_global_efficiency, rand_global_efficiency.mean(), rand_global_efficiency.std())\n",
        "control_zscores_vs_random = calculate_zscores(control_global_efficiency, rand_global_efficiency.mean(), rand_global_efficiency.std())\n",
        "rand_zscores = calculate_zscores(rand_global_efficiency, rand_global_efficiency.mean(), rand_global_efficiency.std())\n",
        "\n",
        "# Perform t-tests between each group and the random group\n",
        "t_stat_schz_vs_random, p_value_schz_vs_random = ttest_ind(schz_zscores_vs_random, rand_zscores, equal_var=False)\n",
        "t_stat_bp_vs_random, p_value_bp_vs_random = ttest_ind(bp_zscores_vs_random, rand_zscores, equal_var=False)\n",
        "t_stat_adhd_vs_random, p_value_adhd_vs_random = ttest_ind(adhd_zscores_vs_random, rand_zscores, equal_var=False)\n",
        "t_stat_control_vs_random, p_value_control_vs_random = ttest_ind(control_zscores_vs_random, rand_zscores, equal_var=False)\n",
        "\n",
        "# Print or use the p-values as needed\n",
        "print(\"p-value Schizophrenia vs. Random: {:.3f}\".format(p_value_schz_vs_random))\n",
        "print(\"p-value Bipolar vs. Random: {:.3f}\".format(p_value_bp_vs_random))\n",
        "print(\"p-value ADHD vs. Random: {:.3f}\".format(p_value_adhd_vs_random))\n",
        "print(\"p-value Control vs. Random: {:.3f}\".format(p_value_control_vs_random))"
      ]
    },
    {
      "cell_type": "code",
      "execution_count": null,
      "metadata": {
        "id": "CKo1VEv17H3i",
        "colab": {
          "base_uri": "https://localhost:8080/"
        },
        "outputId": "51574354-3bf6-4d91-d734-cea14a926603"
      },
      "outputs": [
        {
          "output_type": "stream",
          "name": "stdout",
          "text": [
            "+-------------------+---------------+---------+--------+\n",
            "|      Metric       | Schizophrenia | Bipolar |  ADHD  |\n",
            "+-------------------+---------------+---------+--------+\n",
            "|     closeness     |    0.7458     | 0.1681  | 0.1705 |\n",
            "|    betweenness    |    0.9009     | 0.8906  | 0.5228 |\n",
            "|      degree       |    0.5936     | 0.5951  | 0.9477 |\n",
            "|    clustering     |    0.7563     | 0.8813  | 0.7647 |\n",
            "|    top5_close     |    0.9658     | 0.3772  | 0.1874 |\n",
            "|     top5_betw     |    0.7317     | 0.7382  | 0.0905 |\n",
            "|     top5_deg      |    0.7077     | 0.3935  | 0.7781 |\n",
            "|    top5_clust     |      nan      |   nan   |  nan   |\n",
            "|    modularity     |    0.7805     | 0.0736  | 0.1181 |\n",
            "| global_efficiency |    0.7390     | 0.1424  | 0.2003 |\n",
            "+-------------------+---------------+---------+--------+\n"
          ]
        },
        {
          "output_type": "stream",
          "name": "stderr",
          "text": [
            "/usr/local/lib/python3.10/dist-packages/scipy/stats/_axis_nan_policy.py:523: RuntimeWarning: Precision loss occurred in moment calculation due to catastrophic cancellation. This occurs when the data are nearly identical. Results may be unreliable.\n",
            "  res = hypotest_fun_out(*samples, **kwds)\n"
          ]
        }
      ],
      "source": [
        "#@title Print p-values of the t-tests\n",
        "print_ttest_pval(dataframes, conditions)"
      ]
    },
    {
      "cell_type": "code",
      "execution_count": null,
      "metadata": {
        "cellView": "form",
        "id": "Y9L9xnc5HeDT",
        "colab": {
          "base_uri": "https://localhost:8080/",
          "height": 419
        },
        "outputId": "1cabea9c-9020-405b-d084-e2d6a92cf061"
      },
      "outputs": [
        {
          "output_type": "display_data",
          "data": {
            "text/plain": [
              "<Figure size 1000x600 with 1 Axes>"
            ],
            "image/png": "[encoded data removed]"
          },
          "metadata": {}
        }
      ],
      "source": [
        "#@title Probability distributions plotter\n",
        "feature = \"betweenness\" # @param [\"global_efficiency\", \"closeness\", \"betweenness\", \"degree\", \"top5_deg\", \"top5_close\", \"top5_betw\", \"clustering\", \"degree\", \"top5_clust\", \"modularity\", \"global_efficiency\", \"network_cost\"]\n",
        "# Set the style\n",
        "sns.set(style=\"whitegrid\")\n",
        "\n",
        "# Plotting distributions with KDE and best-fit line\n",
        "plt.figure(figsize=(10, 6))\n",
        "\n",
        "# Control\n",
        "sns.kdeplot(control_data[feature], label='Control', fill=True, common_norm=True, cut = 3,\n",
        "    linewidth=0,)\n",
        "\n",
        "# Schizophrenia\n",
        "sns.kdeplot(schz_data[feature], label='Schizophrenia', fill=True, common_norm=True, cut = 3,\n",
        "    linewidth=0,)\n",
        "\n",
        "# Bipolar\n",
        "sns.kdeplot(bp_data[feature], label='Bipolar', fill=True, common_norm=True, cut = 3,\n",
        "    linewidth=0,)\n",
        "\n",
        "# ADHD\n",
        "sns.kdeplot(adhd_data[feature], label='ADHD', fill=True, common_norm=True, cut = 3,\n",
        "    linewidth=0,)\n",
        "\n",
        "sns.kdeplot(rand_grp[feature], label='Rand', fill=True, common_norm=True, cut = 3,\n",
        "    linewidth=0,)\n",
        "\n",
        "# Adding labels and title\n",
        "plt.xlabel(feature)\n",
        "plt.ylabel('Density')\n",
        "plt.title(feature + ' Distribution across Conditions')\n",
        "\n",
        "# Adding legend\n",
        "plt.legend()\n",
        "\n",
        "# Show the plot\n",
        "plt.show()\n"
      ]
    },
    {
      "cell_type": "markdown",
      "metadata": {
        "id": "nrBvGc0ft0eT"
      },
      "source": [
        "#Brain Subsets Analysis\n",
        "Local and global features on the modules"
      ]
    },
    {
      "cell_type": "code",
      "execution_count": null,
      "metadata": {
        "colab": {
          "base_uri": "https://localhost:8080/",
          "height": 833
        },
        "id": "PpIHx8yWt_I9",
        "outputId": "9629b670-a785-49d7-f79a-19afa66bdef3"
      },
      "outputs": [
        {
          "output_type": "stream",
          "name": "stderr",
          "text": [
            "  0%|          | 0/10 [00:01<?, ?it/s]\n",
            "  0%|          | 0/10 [00:01<?, ?it/s]\n",
            "  0%|          | 0/10 [00:02<?, ?it/s]\n",
            "  0%|          | 0/10 [00:02<?, ?it/s]\n",
            "  0%|          | 0/40 [00:01<?, ?it/s]\n"
          ]
        },
        {
          "output_type": "error",
          "ename": "NameError",
          "evalue": "ignored",
          "traceback": [
            "\u001b[0;31m---------------------------------------------------------------------------\u001b[0m",
            "\u001b[0;31mRemoteTraceback\u001b[0m                           Traceback (most recent call last)",
            "\u001b[0;31mRemoteTraceback\u001b[0m: \n\"\"\"\nTraceback (most recent call last):\n  File \"/usr/lib/python3.10/multiprocessing/pool.py\", line 125, in worker\n    result = (True, func(*args, **kwds))\n  File \"/usr/lib/python3.10/multiprocessing/pool.py\", line 51, in starmapstar\n    return list(itertools.starmap(args[0], args[1]))\n  File \"/content/findpartitionofbrain.py\", line 35, in compute_communities\n    ls=community_metrics(G,com)\n  File \"/content/findpartitionofbrain.py\", line 45, in community_metrics\n    betweenness_centrality = centrality.betweenness_centrality(subgraph)\nNameError: name 'centrality' is not defined\n\"\"\"",
            "\nThe above exception was the direct cause of the following exception:\n",
            "\u001b[0;31mNameError\u001b[0m                                 Traceback (most recent call last)",
            "\u001b[0;32m<ipython-input-15-4a5919746ae4>\u001b[0m in \u001b[0;36m<cell line: 10>\u001b[0;34m()\u001b[0m\n\u001b[1;32m      9\u001b[0m \u001b[0;31m#process tye communities and the metrics related\u001b[0m\u001b[0;34m\u001b[0m\u001b[0;34m\u001b[0m\u001b[0m\n\u001b[1;32m     10\u001b[0m \u001b[0;32mwith\u001b[0m \u001b[0mPool\u001b[0m\u001b[0;34m(\u001b[0m\u001b[0mprocesses\u001b[0m\u001b[0;34m=\u001b[0m\u001b[0mnum_processes\u001b[0m\u001b[0;34m)\u001b[0m \u001b[0;32mas\u001b[0m \u001b[0mpool\u001b[0m\u001b[0;34m:\u001b[0m\u001b[0;34m\u001b[0m\u001b[0;34m\u001b[0m\u001b[0m\n\u001b[0;32m---> 11\u001b[0;31m     processed_data = pool.starmap(\n\u001b[0m\u001b[1;32m     12\u001b[0m         \u001b[0mcompute_communities\u001b[0m\u001b[0;34m,\u001b[0m\u001b[0;34m\u001b[0m\u001b[0;34m\u001b[0m\u001b[0m\n\u001b[1;32m     13\u001b[0m         \u001b[0;34m[\u001b[0m\u001b[0;34m(\u001b[0m\u001b[0mdataframe\u001b[0m\u001b[0;34m,\u001b[0m \u001b[0mcondition\u001b[0m\u001b[0;34m)\u001b[0m \u001b[0;32mfor\u001b[0m \u001b[0mdataframe\u001b[0m\u001b[0;34m,\u001b[0m \u001b[0mcondition\u001b[0m \u001b[0;32min\u001b[0m \u001b[0mzip\u001b[0m\u001b[0;34m(\u001b[0m\u001b[0mdataframes\u001b[0m\u001b[0;34m,\u001b[0m \u001b[0mconditions\u001b[0m\u001b[0;34m)\u001b[0m\u001b[0;34m]\u001b[0m\u001b[0;34m\u001b[0m\u001b[0;34m\u001b[0m\u001b[0m\n",
            "\u001b[0;32m/usr/lib/python3.10/multiprocessing/pool.py\u001b[0m in \u001b[0;36mstarmap\u001b[0;34m(self, func, iterable, chunksize)\u001b[0m\n\u001b[1;32m    373\u001b[0m         \u001b[0;31m`\u001b[0m\u001b[0mfunc\u001b[0m\u001b[0;31m`\u001b[0m \u001b[0;32mand\u001b[0m \u001b[0;34m(\u001b[0m\u001b[0ma\u001b[0m\u001b[0;34m,\u001b[0m \u001b[0mb\u001b[0m\u001b[0;34m)\u001b[0m \u001b[0mbecomes\u001b[0m \u001b[0mfunc\u001b[0m\u001b[0;34m(\u001b[0m\u001b[0ma\u001b[0m\u001b[0;34m,\u001b[0m \u001b[0mb\u001b[0m\u001b[0;34m)\u001b[0m\u001b[0;34m.\u001b[0m\u001b[0;34m\u001b[0m\u001b[0;34m\u001b[0m\u001b[0m\n\u001b[1;32m    374\u001b[0m         '''\n\u001b[0;32m--> 375\u001b[0;31m         \u001b[0;32mreturn\u001b[0m \u001b[0mself\u001b[0m\u001b[0;34m.\u001b[0m\u001b[0m_map_async\u001b[0m\u001b[0;34m(\u001b[0m\u001b[0mfunc\u001b[0m\u001b[0;34m,\u001b[0m \u001b[0miterable\u001b[0m\u001b[0;34m,\u001b[0m \u001b[0mstarmapstar\u001b[0m\u001b[0;34m,\u001b[0m \u001b[0mchunksize\u001b[0m\u001b[0;34m)\u001b[0m\u001b[0;34m.\u001b[0m\u001b[0mget\u001b[0m\u001b[0;34m(\u001b[0m\u001b[0;34m)\u001b[0m\u001b[0;34m\u001b[0m\u001b[0;34m\u001b[0m\u001b[0m\n\u001b[0m\u001b[1;32m    376\u001b[0m \u001b[0;34m\u001b[0m\u001b[0m\n\u001b[1;32m    377\u001b[0m     def starmap_async(self, func, iterable, chunksize=None, callback=None,\n",
            "\u001b[0;32m/usr/lib/python3.10/multiprocessing/pool.py\u001b[0m in \u001b[0;36mget\u001b[0;34m(self, timeout)\u001b[0m\n\u001b[1;32m    772\u001b[0m             \u001b[0;32mreturn\u001b[0m \u001b[0mself\u001b[0m\u001b[0;34m.\u001b[0m\u001b[0m_value\u001b[0m\u001b[0;34m\u001b[0m\u001b[0;34m\u001b[0m\u001b[0m\n\u001b[1;32m    773\u001b[0m         \u001b[0;32melse\u001b[0m\u001b[0;34m:\u001b[0m\u001b[0;34m\u001b[0m\u001b[0;34m\u001b[0m\u001b[0m\n\u001b[0;32m--> 774\u001b[0;31m             \u001b[0;32mraise\u001b[0m \u001b[0mself\u001b[0m\u001b[0;34m.\u001b[0m\u001b[0m_value\u001b[0m\u001b[0;34m\u001b[0m\u001b[0;34m\u001b[0m\u001b[0m\n\u001b[0m\u001b[1;32m    775\u001b[0m \u001b[0;34m\u001b[0m\u001b[0m\n\u001b[1;32m    776\u001b[0m     \u001b[0;32mdef\u001b[0m \u001b[0m_set\u001b[0m\u001b[0;34m(\u001b[0m\u001b[0mself\u001b[0m\u001b[0;34m,\u001b[0m \u001b[0mi\u001b[0m\u001b[0;34m,\u001b[0m \u001b[0mobj\u001b[0m\u001b[0;34m)\u001b[0m\u001b[0;34m:\u001b[0m\u001b[0;34m\u001b[0m\u001b[0;34m\u001b[0m\u001b[0m\n",
            "\u001b[0;31mNameError\u001b[0m: name 'centrality' is not defined"
          ]
        }
      ],
      "source": [
        "#@title Compute communities\n",
        "#take all the graphs for the patient , in order to understand how many hubs we have,\n",
        "#try also to take all the graphs.\n",
        "\n",
        "\n",
        "dataframes = [control_data, schz_data, bp_data, adhd_data, rand_grp]\n",
        "conditions = [\"Control\", \"Schizophrenia\", \"Bipolar\", \"ADHD\", \"Random\"]\n",
        "\n",
        "#process tye communities and the metrics related\n",
        "with Pool(processes=num_processes) as pool:\n",
        "    processed_data = pool.starmap(\n",
        "        compute_communities,\n",
        "        [(dataframe, condition) for dataframe, condition in zip(dataframes, conditions)]\n",
        "    )\n",
        "\n",
        "#store communiìties and community metrics\n",
        "for df, results in zip(dataframes, processed_data):\n",
        "    df.loc[:,'communities'] = 5\n",
        "    df['communities'] = df['communities'].astype(object)\n",
        "    for result in results:\n",
        "        (row_name, community,ls) = result\n",
        "        df.at[row_name, 'communities'] = community\n",
        "        df.at[row_name, 'communities_metrics'] = ls"
      ]
    },
    {
      "cell_type": "code",
      "source": [],
      "metadata": {
        "id": "tdYp3z5dI_uN"
      },
      "execution_count": null,
      "outputs": []
    },
    {
      "cell_type": "code",
      "execution_count": null,
      "metadata": {
        "id": "x_iMDmhbBhKM"
      },
      "outputs": [],
      "source": [
        "\n",
        "\n"
      ]
    },
    {
      "cell_type": "code",
      "execution_count": null,
      "metadata": {
        "id": "2cvT8DbJbp_Y"
      },
      "outputs": [],
      "source": [
        "#@title Plot the communities of a graph\n",
        "condition = \"ADHD\" # @param [\"Control\", \"Schizophrenia\", \"Bipolar\", \"ADHD\"]\n",
        "if condition == \"Control\": df_idx = 0\n",
        "elif condition == \"Schizophrenia\": df_idx = 1\n",
        "elif condition == \"Bipolar\": df_idx = 2\n",
        "else: df_idx = 3\n",
        "\n",
        "sample_number = 5 # @param {type:\"slider\", min:0, max:9, step:1}\n",
        "sample_subject = dataframes[df_idx].iloc[sample_number]\n",
        "communities = list(sample_subject['communities'])\n",
        "sample_graph = sample_subject['graph']\n",
        "\n",
        "# Create a dictionary to store node-community assignments\n",
        "node_community_dict = {node: i for i, comm in enumerate(communities) for node in comm}\n",
        "\n",
        "# Create a list of community assignments for each node\n",
        "node_community = [node_community_dict[node] for node in sample_graph.nodes()]\n",
        "\n",
        "fig = community_plot(sample_graph, node_community)\n",
        "fig = graph_plot(sample_graph)"
      ]
    },
    {
      "cell_type": "markdown",
      "metadata": {
        "id": "9euFzEWiyhEZ"
      },
      "source": [
        "#Motifs\n",
        "Find the main motifs of a brain network"
      ]
    },
    {
      "cell_type": "code",
      "execution_count": null,
      "metadata": {
        "id": "gdSu20Y_dSCM"
      },
      "outputs": [],
      "source": [
        "#@title Print top 3 motifs\n",
        "dataframes = [control_data, schz_data, bp_data, adhd_data, rand_grp]\n",
        "condition = \"Random\" # @param [\"Control\", \"Schizophrenia\", \"Bipolar\", \"ADHD\", \"Random\"]\n",
        "k = 4 # @param {type:\"integer\"}\n",
        "if condition == \"Control\": df_idx = 0\n",
        "elif condition == \"Schizophrenia\": df_idx = 1\n",
        "elif condition == \"Bipolar\": df_idx = 2\n",
        "elif condition== \"ADHD\": df_idx = 3\n",
        "else: df_idx=4\n",
        "\n",
        "working_df = dataframes[df_idx]\n",
        "plt = compute_plot_top3_motifs(working_df, k)"
      ]
    },
    {
      "cell_type": "markdown",
      "metadata": {
        "id": "lZ5Q0IvTBAkB"
      },
      "source": [
        "#Save zone\n",
        "Save the dataframes with the graphs and all the features computed"
      ]
    },
    {
      "cell_type": "code",
      "execution_count": null,
      "metadata": {
        "cellView": "form",
        "id": "pUWOjHP2xqXr"
      },
      "outputs": [],
      "source": [
        "#@title Save dataframes as csv?\n",
        "save_data = True # @param {type:\"boolean\"}\n",
        "if save_data:\n",
        "      import pickle\n",
        "\n",
        "      # Save dataframes with graphs using Pickle\n",
        "      with open('/content/control_data.pkl', 'wb') as file:\n",
        "          pickle.dump(control_data, file)\n",
        "\n",
        "      with open('/content/schz_data.pkl', 'wb') as file:\n",
        "          pickle.dump(schz_data, file)\n",
        "\n",
        "      with open('/content/bp_data.pkl', 'wb') as file:\n",
        "          pickle.dump(bp_data, file)\n",
        "\n",
        "      with open('/content/adhd_data.pkl', 'wb') as file:\n",
        "          pickle.dump(adhd_data, file)\n",
        "      print('Dataframes saved!')\n",
        "\n",
        "download_data = True # @param {type:\"boolean\"}\n",
        "if download_data:\n",
        "  from google.colab import files\n",
        "  zip_file = '/content/dataframes.zip'\n",
        "  !zip -r dataframes.zip /content/control_data.pkl /content/schz_data.pkl /content/bp_data.pkl /content/adhd_data.pkl\n",
        "  files.download(zip_file)"
      ]
    }
  ],
  "metadata": {
    "colab": {
      "collapsed_sections": [
        "9euFzEWiyhEZ",
        "lZ5Q0IvTBAkB"
      ],
      "provenance": [],
      "include_colab_link": true
    },
    "kernelspec": {
      "display_name": "Python 3",
      "name": "python3"
    },
    "language_info": {
      "name": "python"
    }
  },
  "nbformat": 4,
  "nbformat_minor": 0
}